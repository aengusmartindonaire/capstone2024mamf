{
 "cells": [
  {
   "cell_type": "markdown",
   "metadata": {},
   "source": [
    "# PSEI Stock Performance: A Random Forest Classification Method\n",
    "\n",
    "Random Forest is a supervised machine learning algorithm which is based on ensemble learning. In this project, I build two Random Forest Classifier models to predict the safety of the car, one with 10 decision-trees and another one with 100 decision-trees. The expected accuracy increases with number of decision-trees in the model. I have demonstrated the **feature selection process** using the Random Forest model to find only the important features, rebuild the model using these features and see its effect on accuracy.\n"
   ]
  },
  {
   "cell_type": "markdown",
   "metadata": {},
   "source": [
    "## 1. Introduction to Random Forest algorithm\n",
    "\n",
    "\n",
    "\n",
    "Random forest is a supervised learning algorithm. It has two variations – one is used for classification problems and other is used for regression problems. It is one of the most flexible and easy to use algorithm. It creates decision trees on the given data samples, gets prediction from each tree and selects the best solution by means of voting. It is also a pretty good indicator of feature importance.\n",
    "\n",
    "\n",
    "Random forest algorithm combines multiple decision-trees, resulting in a forest of trees, hence the name `Random Forest`. In the random forest classifier, the higher the number of trees in the forest results in higher accuracy.\n",
    "\n"
   ]
  },
  {
   "cell_type": "markdown",
   "metadata": {},
   "source": [
    "## 2. Random Forest algorithm intuition\n",
    "\n",
    "\n",
    "Random forest algorithm intuition can be divided into two stages. \n",
    "\n",
    "\n",
    "In the first stage, we randomly select “k” features out of total `m` features and build the random forest. In the first stage, we proceed as follows:-\n",
    "\n",
    "1.\tRandomly select `k` features from a total of `m` features where `k < m`.\n",
    "2.\tAmong the `k` features, calculate the node `d` using the best split point.\n",
    "3.\tSplit the node into daughter nodes using the best split.\n",
    "4.\tRepeat 1 to 3 steps until `l` number of nodes has been reached.\n",
    "5.\tBuild forest by repeating steps 1 to 4 for `n` number of times to create `n` number of trees.\n",
    "\n",
    "\n",
    "In the second stage, we make predictions using the trained random forest algorithm. \n",
    "\n",
    "1.\tWe take the test features and use the rules of each randomly created decision tree to predict the outcome and stores the predicted outcome.\n",
    "2.\tThen, we calculate the votes for each predicted target.\n",
    "3.\tFinally, we consider the high voted predicted target as the final prediction from the random forest algorithm.\n"
   ]
  },
  {
   "cell_type": "markdown",
   "metadata": {},
   "source": [
    "## 3. Advantages and disadvantages of Random Forest algorithm\n",
    "\n",
    "\n",
    "The advantages of Random forest algorithm are as follows:-\n",
    "\n",
    "\n",
    "1.\tRandom forest algorithm can be used to solve both classification and regression problems.\n",
    "2.\tIt is considered as very accurate and robust model because it uses large number of decision-trees to make predictions.\n",
    "3.\tRandom forests takes the average of all the predictions made by the decision-trees, which cancels out the biases. So, it does not suffer from the overfitting problem. \n",
    "4.\tRandom forest classifier can handle the missing values. There are two ways to handle the missing values. First is to use median values to replace continuous variables and second is to compute the proximity-weighted average of missing values.\n",
    "5.\tRandom forest classifier can be used for feature selection. It means selecting the most important features out of the available features from the training dataset.\n",
    "\n",
    "\n",
    "The disadvantages of Random Forest algorithm are listed below:-\n",
    "\n",
    "\n",
    "1.\tThe biggest disadvantage of random forests is its computational complexity. Random forests is very slow in making predictions because large number of decision-trees are used to make predictions. All the trees in the forest have to make a prediction for the same input and then perform voting on it. So, it is a time-consuming process.\n",
    "2.\tThe model is difficult to interpret as compared to a decision-tree, where we can easily make a prediction as compared to a decision-tree.\n"
   ]
  },
  {
   "cell_type": "markdown",
   "metadata": {},
   "source": [
    "## 4. Feature selection with Random Forests\n",
    "\n",
    "\n",
    "\n",
    "Random forests algorithm can be used for feature selection process. This algorithm can be used to rank the importance of variables in a regression or classification problem. \n",
    "\n",
    "\n",
    "We measure the variable importance in a dataset by fitting the random forest algorithm to the data. During the fitting process, the out-of-bag error for each data point is recorded and averaged over the forest. \n",
    "\n",
    "\n",
    "The importance of the j-th feature was measured after training. The values of the j-th feature were permuted among the training data and the out-of-bag error was again computed on this perturbed dataset. The importance score for the j-th feature is computed by averaging the difference in out-of-bag error before and after the permutation over all trees. The score is normalized by the standard deviation of these differences.\n",
    "\n",
    "\n",
    "Features which produce large values for this score are ranked as more important than features which produce small values. Based on this score, we will choose the most important features and drop the least important ones for model building. \n"
   ]
  },
  {
   "cell_type": "markdown",
   "metadata": {},
   "source": [
    "## 5. Dataset description\n",
    "\n",
    "\n",
    "The dataset used here were ratios extract from **Bloomberg Terminal** of AB Capital."
   ]
  },
  {
   "cell_type": "markdown",
   "metadata": {},
   "source": [
    "## 6. Import libraries"
   ]
  },
  {
   "cell_type": "code",
   "execution_count": 1,
   "metadata": {},
   "outputs": [],
   "source": [
    "import pandas as pd\n",
    "import numpy as np\n",
    "import matplotlib.pyplot as plt\n",
    "import seaborn as sns\n",
    "%matplotlib inline"
   ]
  },
  {
   "cell_type": "code",
   "execution_count": 2,
   "metadata": {},
   "outputs": [],
   "source": [
    "import warnings\n",
    "\n",
    "warnings.filterwarnings('ignore')"
   ]
  },
  {
   "cell_type": "markdown",
   "metadata": {},
   "source": [
    "## 7. Import dataset"
   ]
  },
  {
   "cell_type": "code",
   "execution_count": 3,
   "metadata": {},
   "outputs": [],
   "source": [
    "df = pd.read_csv('pseifinancialratios base2 .csv')"
   ]
  },
  {
   "cell_type": "markdown",
   "metadata": {},
   "source": [
    "## 8. Exploratory data analysis\n",
    "\n",
    "\n",
    "Now, I will explore the data to gain insights about the data. "
   ]
  },
  {
   "cell_type": "code",
   "execution_count": 4,
   "metadata": {},
   "outputs": [
    {
     "data": {
      "text/plain": [
       "(326, 23)"
      ]
     },
     "execution_count": 4,
     "metadata": {},
     "output_type": "execute_result"
    }
   ],
   "source": [
    "# view dimensions of dataset\n",
    "\n",
    "df.shape"
   ]
  },
  {
   "cell_type": "markdown",
   "metadata": {},
   "source": [
    "We can see that there are 326 instances and 23 variables in the data set. However, only 22 variables (columns) will be used since one column is for the weights of each stock in a particular quarter."
   ]
  },
  {
   "cell_type": "markdown",
   "metadata": {},
   "source": [
    "### View top 5 rows of dataset"
   ]
  },
  {
   "cell_type": "code",
   "execution_count": 5,
   "metadata": {},
   "outputs": [
    {
     "data": {
      "text/html": [
       "<div>\n",
       "<style scoped>\n",
       "    .dataframe tbody tr th:only-of-type {\n",
       "        vertical-align: middle;\n",
       "    }\n",
       "\n",
       "    .dataframe tbody tr th {\n",
       "        vertical-align: top;\n",
       "    }\n",
       "\n",
       "    .dataframe thead th {\n",
       "        text-align: right;\n",
       "    }\n",
       "</style>\n",
       "<table border=\"1\" class=\"dataframe\">\n",
       "  <thead>\n",
       "    <tr style=\"text-align: right;\">\n",
       "      <th></th>\n",
       "      <th>X</th>\n",
       "      <th>Quarters</th>\n",
       "      <th>Performance</th>\n",
       "      <th>Weights</th>\n",
       "      <th>Earnings.per.Share</th>\n",
       "      <th>Price.to.Sales</th>\n",
       "      <th>Operating.Margins</th>\n",
       "      <th>Price.to.Book</th>\n",
       "      <th>ROE</th>\n",
       "      <th>ROA</th>\n",
       "      <th>...</th>\n",
       "      <th>PE</th>\n",
       "      <th>Debt.to.Equity</th>\n",
       "      <th>Book.Value.Per.Share</th>\n",
       "      <th>Net.Debt.to.EBITDA</th>\n",
       "      <th>Current.Ratio</th>\n",
       "      <th>Profit.Margin</th>\n",
       "      <th>Total.Debt.to.Total.Asset</th>\n",
       "      <th>Return.on.Capital</th>\n",
       "      <th>FCF.to.Basic.Share</th>\n",
       "      <th>Tangible.Book.value.per.Share</th>\n",
       "    </tr>\n",
       "  </thead>\n",
       "  <tbody>\n",
       "    <tr>\n",
       "      <th>0</th>\n",
       "      <td>ABOITIZ EQUITY VENTURES INC</td>\n",
       "      <td>12/29/16</td>\n",
       "      <td>1</td>\n",
       "      <td>5.46</td>\n",
       "      <td>0.83</td>\n",
       "      <td>3.41</td>\n",
       "      <td>22.74</td>\n",
       "      <td>3.01</td>\n",
       "      <td>22.80</td>\n",
       "      <td>192167.95</td>\n",
       "      <td>...</td>\n",
       "      <td>18.91</td>\n",
       "      <td>149.50</td>\n",
       "      <td>24.72</td>\n",
       "      <td>5.21</td>\n",
       "      <td>2.08</td>\n",
       "      <td>13.82</td>\n",
       "      <td>54.61</td>\n",
       "      <td>9.77</td>\n",
       "      <td>0.45</td>\n",
       "      <td>17.38</td>\n",
       "    </tr>\n",
       "    <tr>\n",
       "      <th>1</th>\n",
       "      <td>ABOITIZ EQUITY VENTURES INC</td>\n",
       "      <td>3/31/17</td>\n",
       "      <td>0</td>\n",
       "      <td>5.40</td>\n",
       "      <td>0.99</td>\n",
       "      <td>3.27</td>\n",
       "      <td>22.10</td>\n",
       "      <td>2.95</td>\n",
       "      <td>22.80</td>\n",
       "      <td>197944.10</td>\n",
       "      <td>...</td>\n",
       "      <td>19.28</td>\n",
       "      <td>144.31</td>\n",
       "      <td>25.85</td>\n",
       "      <td>5.07</td>\n",
       "      <td>2.21</td>\n",
       "      <td>14.77</td>\n",
       "      <td>54.70</td>\n",
       "      <td>9.90</td>\n",
       "      <td>0.96</td>\n",
       "      <td>18.51</td>\n",
       "    </tr>\n",
       "    <tr>\n",
       "      <th>2</th>\n",
       "      <td>ABOITIZ EQUITY VENTURES INC</td>\n",
       "      <td>6/28/19</td>\n",
       "      <td>0</td>\n",
       "      <td>3.50</td>\n",
       "      <td>1.20</td>\n",
       "      <td>1.46</td>\n",
       "      <td>18.82</td>\n",
       "      <td>1.75</td>\n",
       "      <td>20.31</td>\n",
       "      <td>267448.69</td>\n",
       "      <td>...</td>\n",
       "      <td>14.48</td>\n",
       "      <td>146.87</td>\n",
       "      <td>30.33</td>\n",
       "      <td>5.83</td>\n",
       "      <td>1.19</td>\n",
       "      <td>13.58</td>\n",
       "      <td>53.60</td>\n",
       "      <td>8.52</td>\n",
       "      <td>1.04</td>\n",
       "      <td>19.28</td>\n",
       "    </tr>\n",
       "    <tr>\n",
       "      <th>3</th>\n",
       "      <td>ABOITIZ EQUITY VENTURES INC</td>\n",
       "      <td>12/27/19</td>\n",
       "      <td>0</td>\n",
       "      <td>3.59</td>\n",
       "      <td>0.36</td>\n",
       "      <td>1.07</td>\n",
       "      <td>14.40</td>\n",
       "      <td>1.25</td>\n",
       "      <td>19.07</td>\n",
       "      <td>263666.67</td>\n",
       "      <td>...</td>\n",
       "      <td>10.34</td>\n",
       "      <td>161.44</td>\n",
       "      <td>30.28</td>\n",
       "      <td>5.92</td>\n",
       "      <td>1.30</td>\n",
       "      <td>4.45</td>\n",
       "      <td>54.76</td>\n",
       "      <td>8.06</td>\n",
       "      <td>1.65</td>\n",
       "      <td>18.25</td>\n",
       "    </tr>\n",
       "    <tr>\n",
       "      <th>4</th>\n",
       "      <td>ABOITIZ EQUITY VENTURES INC</td>\n",
       "      <td>3/31/20</td>\n",
       "      <td>1</td>\n",
       "      <td>3.73</td>\n",
       "      <td>0.36</td>\n",
       "      <td>1.35</td>\n",
       "      <td>13.23</td>\n",
       "      <td>1.49</td>\n",
       "      <td>17.81</td>\n",
       "      <td>268457.72</td>\n",
       "      <td>...</td>\n",
       "      <td>14.97</td>\n",
       "      <td>161.40</td>\n",
       "      <td>30.49</td>\n",
       "      <td>6.35</td>\n",
       "      <td>1.32</td>\n",
       "      <td>4.37</td>\n",
       "      <td>55.02</td>\n",
       "      <td>6.99</td>\n",
       "      <td>0.85</td>\n",
       "      <td>18.45</td>\n",
       "    </tr>\n",
       "  </tbody>\n",
       "</table>\n",
       "<p>5 rows × 23 columns</p>\n",
       "</div>"
      ],
      "text/plain": [
       "                             X  Quarters  Performance  Weights  \\\n",
       "0  ABOITIZ EQUITY VENTURES INC  12/29/16            1     5.46   \n",
       "1  ABOITIZ EQUITY VENTURES INC   3/31/17            0     5.40   \n",
       "2  ABOITIZ EQUITY VENTURES INC   6/28/19            0     3.50   \n",
       "3  ABOITIZ EQUITY VENTURES INC  12/27/19            0     3.59   \n",
       "4  ABOITIZ EQUITY VENTURES INC   3/31/20            1     3.73   \n",
       "\n",
       "   Earnings.per.Share  Price.to.Sales  Operating.Margins  Price.to.Book  \\\n",
       "0                0.83            3.41              22.74           3.01   \n",
       "1                0.99            3.27              22.10           2.95   \n",
       "2                1.20            1.46              18.82           1.75   \n",
       "3                0.36            1.07              14.40           1.25   \n",
       "4                0.36            1.35              13.23           1.49   \n",
       "\n",
       "     ROE        ROA  ...     PE  Debt.to.Equity  Book.Value.Per.Share  \\\n",
       "0  22.80  192167.95  ...  18.91          149.50                 24.72   \n",
       "1  22.80  197944.10  ...  19.28          144.31                 25.85   \n",
       "2  20.31  267448.69  ...  14.48          146.87                 30.33   \n",
       "3  19.07  263666.67  ...  10.34          161.44                 30.28   \n",
       "4  17.81  268457.72  ...  14.97          161.40                 30.49   \n",
       "\n",
       "   Net.Debt.to.EBITDA  Current.Ratio  Profit.Margin  \\\n",
       "0                5.21           2.08          13.82   \n",
       "1                5.07           2.21          14.77   \n",
       "2                5.83           1.19          13.58   \n",
       "3                5.92           1.30           4.45   \n",
       "4                6.35           1.32           4.37   \n",
       "\n",
       "   Total.Debt.to.Total.Asset  Return.on.Capital  FCF.to.Basic.Share  \\\n",
       "0                      54.61               9.77                0.45   \n",
       "1                      54.70               9.90                0.96   \n",
       "2                      53.60               8.52                1.04   \n",
       "3                      54.76               8.06                1.65   \n",
       "4                      55.02               6.99                0.85   \n",
       "\n",
       "   Tangible.Book.value.per.Share  \n",
       "0                          17.38  \n",
       "1                          18.51  \n",
       "2                          19.28  \n",
       "3                          18.25  \n",
       "4                          18.45  \n",
       "\n",
       "[5 rows x 23 columns]"
      ]
     },
     "execution_count": 5,
     "metadata": {},
     "output_type": "execute_result"
    }
   ],
   "source": [
    "# preview the dataset\n",
    "\n",
    "df.head()"
   ]
  },
  {
   "cell_type": "markdown",
   "metadata": {},
   "source": [
    "### Check column names"
   ]
  },
  {
   "cell_type": "code",
   "execution_count": 6,
   "metadata": {},
   "outputs": [
    {
     "data": {
      "text/plain": [
       "Index(['X', 'Quarters', 'Performance', 'Weights', 'Earnings.per.Share',\n",
       "       'Price.to.Sales', 'Operating.Margins', 'Price.to.Book', 'ROE', 'ROA',\n",
       "       'Dividend.Yield', 'EPS.Growth', 'Earnings.Yield', 'PE',\n",
       "       'Debt.to.Equity', 'Book.Value.Per.Share', 'Net.Debt.to.EBITDA',\n",
       "       'Current.Ratio', 'Profit.Margin', 'Total.Debt.to.Total.Asset',\n",
       "       'Return.on.Capital', 'FCF.to.Basic.Share',\n",
       "       'Tangible.Book.value.per.Share'],\n",
       "      dtype='object')"
      ]
     },
     "execution_count": 6,
     "metadata": {},
     "output_type": "execute_result"
    }
   ],
   "source": [
    "df.columns "
   ]
  },
  {
   "cell_type": "markdown",
   "metadata": {},
   "source": [
    "We can see that the column names are renamed. Now, the columns have meaningful names."
   ]
  },
  {
   "cell_type": "markdown",
   "metadata": {},
   "source": [
    "### View summary of dataset"
   ]
  },
  {
   "cell_type": "code",
   "execution_count": 7,
   "metadata": {},
   "outputs": [
    {
     "name": "stdout",
     "output_type": "stream",
     "text": [
      "<class 'pandas.core.frame.DataFrame'>\n",
      "RangeIndex: 326 entries, 0 to 325\n",
      "Data columns (total 23 columns):\n",
      " #   Column                         Non-Null Count  Dtype  \n",
      "---  ------                         --------------  -----  \n",
      " 0   X                              326 non-null    object \n",
      " 1   Quarters                       326 non-null    object \n",
      " 2   Performance                    326 non-null    int64  \n",
      " 3   Weights                        326 non-null    float64\n",
      " 4   Earnings.per.Share             326 non-null    float64\n",
      " 5   Price.to.Sales                 326 non-null    float64\n",
      " 6   Operating.Margins              326 non-null    float64\n",
      " 7   Price.to.Book                  326 non-null    float64\n",
      " 8   ROE                            326 non-null    float64\n",
      " 9   ROA                            326 non-null    float64\n",
      " 10  Dividend.Yield                 326 non-null    float64\n",
      " 11  EPS.Growth                     326 non-null    float64\n",
      " 12  Earnings.Yield                 326 non-null    float64\n",
      " 13  PE                             326 non-null    float64\n",
      " 14  Debt.to.Equity                 326 non-null    float64\n",
      " 15  Book.Value.Per.Share           326 non-null    float64\n",
      " 16  Net.Debt.to.EBITDA             326 non-null    float64\n",
      " 17  Current.Ratio                  326 non-null    float64\n",
      " 18  Profit.Margin                  326 non-null    float64\n",
      " 19  Total.Debt.to.Total.Asset      326 non-null    float64\n",
      " 20  Return.on.Capital              326 non-null    float64\n",
      " 21  FCF.to.Basic.Share             326 non-null    float64\n",
      " 22  Tangible.Book.value.per.Share  326 non-null    float64\n",
      "dtypes: float64(20), int64(1), object(2)\n",
      "memory usage: 58.7+ KB\n"
     ]
    }
   ],
   "source": [
    "df.info()"
   ]
  },
  {
   "cell_type": "markdown",
   "metadata": {},
   "source": [
    "### Frequency distribution of values in variables\n",
    "\n",
    "Now, I will check the frequency counts of categorical variables."
   ]
  },
  {
   "cell_type": "code",
   "execution_count": 8,
   "metadata": {},
   "outputs": [
    {
     "name": "stdout",
     "output_type": "stream",
     "text": [
      "ABOITIZ EQUITY VENTURES INC     15\n",
      "FIRST GEN CORPORATION           15\n",
      "ROBINSONS RETAIL HOLDINGS IN    15\n",
      "PUREGOLD PRICE CLUB INC         15\n",
      "PLDT INC                        15\n",
      "MANILA ELECTRIC COMPANY         15\n",
      "ABOITIZ POWER CORP              15\n",
      "GLOBE TELECOM INC               15\n",
      "UNIVERSAL ROBINA CORP           15\n",
      "AYALA LAND INC                  15\n",
      "ALLIANCE GLOBAL GROUP INC       15\n",
      "EMPERADOR INC                   15\n",
      "AYALA CORPORATION               15\n",
      "INTL CONTAINER TERM SVCS INC    14\n",
      "SM PRIME HOLDINGS INC           14\n",
      "ROBINSONS LAND CO               14\n",
      "DMCI HOLDINGS INC               13\n",
      "SM INVESTMENTS CORP             13\n",
      "GT CAPITAL HOLDINGS INC         13\n",
      "LT GROUP INC                    12\n",
      "METRO PACIFIC INVESTMENTS CO    12\n",
      "JOLLIBEE FOODS CORP              9\n",
      "JG SUMMIT HOLDINGS INC           6\n",
      "PETRON CORP                      5\n",
      "SAN MIGUEL CORP                  3\n",
      "ENERGY DEVELOPMENT CORP          2\n",
      "SEMIRARA MINING AND POWER CO     1\n",
      "Name: X, dtype: int64\n",
      "12/29/16    25\n",
      "3/31/17     25\n",
      "6/28/19     24\n",
      "12/31/21    24\n",
      "9/30/21     23\n",
      "6/30/22     23\n",
      "3/31/22     22\n",
      "12/27/19    21\n",
      "6/30/20     21\n",
      "12/29/20    21\n",
      "3/31/23     21\n",
      "6/30/21     20\n",
      "12/29/22    20\n",
      "3/31/20     18\n",
      "3/31/21     18\n",
      "Name: Quarters, dtype: int64\n",
      "0    173\n",
      "1    153\n",
      "Name: Performance, dtype: int64\n",
      "0.00    17\n",
      "0.79     5\n",
      "1.09     5\n",
      "1.12     5\n",
      "0.94     4\n",
      "        ..\n",
      "2.37     1\n",
      "2.25     1\n",
      "1.80     1\n",
      "1.67     1\n",
      "3.97     1\n",
      "Name: Weights, Length: 232, dtype: int64\n",
      "0.02     12\n",
      "0.07      6\n",
      "0.21      5\n",
      "0.61      5\n",
      "0.27      5\n",
      "         ..\n",
      "35.97     1\n",
      "20.45     1\n",
      "15.16     1\n",
      "39.52     1\n",
      "1.49      1\n",
      "Name: Earnings.per.Share, Length: 200, dtype: int64\n",
      "2.25    5\n",
      "0.94    4\n",
      "0.81    4\n",
      "1.11    4\n",
      "2.20    4\n",
      "       ..\n",
      "2.00    1\n",
      "2.84    1\n",
      "3.06    1\n",
      "3.21    1\n",
      "1.87    1\n",
      "Name: Price.to.Sales, Length: 212, dtype: int64\n",
      "18.82    3\n",
      "3.26     3\n",
      "9.97     3\n",
      "16.92    3\n",
      "10.74    2\n",
      "        ..\n",
      "25.09    1\n",
      "8.22     1\n",
      "10.67    1\n",
      "9.70     1\n",
      "10.05    1\n",
      "Name: Operating.Margins, Length: 299, dtype: int64\n",
      "0.87    5\n",
      "0.50    5\n",
      "0.61    4\n",
      "1.41    4\n",
      "1.04    4\n",
      "       ..\n",
      "2.76    1\n",
      "3.51    1\n",
      "4.46    1\n",
      "5.13    1\n",
      "2.55    1\n",
      "Name: Price.to.Book, Length: 212, dtype: int64\n",
      "6.21     3\n",
      "7.11     3\n",
      "22.80    2\n",
      "9.40     2\n",
      "23.73    2\n",
      "        ..\n",
      "39.17    1\n",
      "40.10    1\n",
      "12.57    1\n",
      "11.66    1\n",
      "14.64    1\n",
      "Name: ROE, Length: 297, dtype: int64\n",
      "249854.63    2\n",
      "408927.65    2\n",
      "520619.73    2\n",
      "523920.86    2\n",
      "490936.77    2\n",
      "            ..\n",
      "208770.18    1\n",
      "174723.25    1\n",
      "158948.83    1\n",
      "135314.93    1\n",
      "10246.40     1\n",
      "Name: ROA, Length: 311, dtype: int64\n",
      " 3.73     2\n",
      "-28.33    2\n",
      "-15.06    2\n",
      "-14.33    2\n",
      " 4.80     2\n",
      "         ..\n",
      "-11.81    1\n",
      "-11.01    1\n",
      "-5.53     1\n",
      "-6.27     1\n",
      " 2.21     1\n",
      "Name: Dividend.Yield, Length: 304, dtype: int64\n",
      " 0.00      5\n",
      " 15.38     3\n",
      " 357.01    2\n",
      " 50.00     2\n",
      "-3.28      2\n",
      "          ..\n",
      " 173.41    1\n",
      "-15.29     1\n",
      "-92.17     1\n",
      " 439.47    1\n",
      " 19.20     1\n",
      "Name: EPS.Growth, Length: 300, dtype: int64\n",
      "11.36    3\n",
      "7.79     3\n",
      "6.03     3\n",
      "7.08     2\n",
      "6.79     2\n",
      "        ..\n",
      "6.60     1\n",
      "6.77     1\n",
      "16.62    1\n",
      "8.17     1\n",
      "5.48     1\n",
      "Name: Earnings.Yield, Length: 293, dtype: int64\n",
      "8.84     3\n",
      "11.15    2\n",
      "18.27    2\n",
      "73.50    2\n",
      "19.62    2\n",
      "        ..\n",
      "11.17    1\n",
      "11.11    1\n",
      "8.75     1\n",
      "5.36     1\n",
      "20.74    1\n",
      "Name: PE, Length: 296, dtype: int64\n",
      "32.95     2\n",
      "80.19     2\n",
      "88.39     2\n",
      "92.47     2\n",
      "85.28     2\n",
      "         ..\n",
      "193.55    1\n",
      "201.00    1\n",
      "276.30    1\n",
      "213.34    1\n",
      "19.12     1\n",
      "Name: Debt.to.Equity, Length: 306, dtype: int64\n",
      "0.64      3\n",
      "0.65      3\n",
      "4.15      3\n",
      "0.61      3\n",
      "381.60    2\n",
      "         ..\n",
      "895.68    1\n",
      "898.93    1\n",
      "899.88    1\n",
      "924.86    1\n",
      "53.85     1\n",
      "Name: Book.Value.Per.Share, Length: 296, dtype: int64\n",
      "0.91     4\n",
      "4.78     3\n",
      "2.15     3\n",
      "4.07     3\n",
      "2.42     3\n",
      "        ..\n",
      "8.38     1\n",
      "10.21    1\n",
      "9.74     1\n",
      "9.62     1\n",
      "0.45     1\n",
      "Name: Net.Debt.to.EBITDA, Length: 267, dtype: int64\n",
      "1.28    7\n",
      "1.50    6\n",
      "1.35    5\n",
      "1.44    5\n",
      "1.25    5\n",
      "       ..\n",
      "2.73    1\n",
      "2.53    1\n",
      "2.46    1\n",
      "2.82    1\n",
      "1.62    1\n",
      "Name: Current.Ratio, Length: 172, dtype: int64\n",
      "3.74     3\n",
      "4.10     3\n",
      "5.36     3\n",
      "12.81    2\n",
      "13.68    2\n",
      "        ..\n",
      "1.56     1\n",
      "9.97     1\n",
      "5.31     1\n",
      "8.70     1\n",
      "8.37     1\n",
      "Name: Profit.Margin, Length: 294, dtype: int64\n",
      "33.29    5\n",
      "34.19    3\n",
      "34.03    2\n",
      "32.87    2\n",
      "32.65    2\n",
      "        ..\n",
      "51.17    1\n",
      "53.32    1\n",
      "31.34    1\n",
      "28.47    1\n",
      "12.73    1\n",
      "Name: Total.Debt.to.Total.Asset, Length: 297, dtype: int64\n",
      "5.08     4\n",
      "9.77     3\n",
      "8.08     3\n",
      "9.46     3\n",
      "6.44     3\n",
      "        ..\n",
      "6.11     1\n",
      "6.10     1\n",
      "7.80     1\n",
      "8.94     1\n",
      "11.71    1\n",
      "Name: Return.on.Capital, Length: 262, dtype: int64\n",
      " 0.06    9\n",
      " 0.04    7\n",
      " 0.10    5\n",
      "-0.01    5\n",
      " 0.03    4\n",
      "        ..\n",
      " 2.51    1\n",
      "-0.55    1\n",
      " 0.66    1\n",
      " 2.59    1\n",
      " 0.43    1\n",
      "Name: FCF.to.Basic.Share, Length: 231, dtype: int64\n",
      "-0.27      3\n",
      " 15.12     2\n",
      " 14.65     2\n",
      " 353.54    2\n",
      " 506.38    2\n",
      "          ..\n",
      " 784.63    1\n",
      " 810.66    1\n",
      " 846.88    1\n",
      " 849.52    1\n",
      " 43.31     1\n",
      "Name: Tangible.Book.value.per.Share, Length: 304, dtype: int64\n"
     ]
    }
   ],
   "source": [
    "for col in df.columns:\n",
    "    print(df[col].value_counts())   "
   ]
  },
  {
   "cell_type": "markdown",
   "metadata": {},
   "source": [
    "We can see that the all variables are categorical in nature. So, we will treat them as categorical variables."
   ]
  },
  {
   "cell_type": "markdown",
   "metadata": {},
   "source": [
    "### Summary of variables\n",
    "\n",
    "\n",
    "- There are 23 variables in the dataset, 22 are independent variables and 1 is the dependent or target variable. All the variables are of categorical data type.\n",
    "\n",
    "- `Performance` is the target variable."
   ]
  },
  {
   "cell_type": "markdown",
   "metadata": {},
   "source": [
    "### Explore `class` variable"
   ]
  },
  {
   "cell_type": "code",
   "execution_count": 9,
   "metadata": {},
   "outputs": [
    {
     "data": {
      "text/plain": [
       "0    173\n",
       "1    153\n",
       "Name: Performance, dtype: int64"
      ]
     },
     "execution_count": 9,
     "metadata": {},
     "output_type": "execute_result"
    }
   ],
   "source": [
    "df['Performance'].value_counts()"
   ]
  },
  {
   "cell_type": "markdown",
   "metadata": {},
   "source": [
    "### Missing values in variables"
   ]
  },
  {
   "cell_type": "code",
   "execution_count": 10,
   "metadata": {},
   "outputs": [
    {
     "data": {
      "text/plain": [
       "X                                0\n",
       "Quarters                         0\n",
       "Performance                      0\n",
       "Weights                          0\n",
       "Earnings.per.Share               0\n",
       "Price.to.Sales                   0\n",
       "Operating.Margins                0\n",
       "Price.to.Book                    0\n",
       "ROE                              0\n",
       "ROA                              0\n",
       "Dividend.Yield                   0\n",
       "EPS.Growth                       0\n",
       "Earnings.Yield                   0\n",
       "PE                               0\n",
       "Debt.to.Equity                   0\n",
       "Book.Value.Per.Share             0\n",
       "Net.Debt.to.EBITDA               0\n",
       "Current.Ratio                    0\n",
       "Profit.Margin                    0\n",
       "Total.Debt.to.Total.Asset        0\n",
       "Return.on.Capital                0\n",
       "FCF.to.Basic.Share               0\n",
       "Tangible.Book.value.per.Share    0\n",
       "dtype: int64"
      ]
     },
     "execution_count": 10,
     "metadata": {},
     "output_type": "execute_result"
    }
   ],
   "source": [
    "# check missing values in variables\n",
    "\n",
    "df.isnull().sum()"
   ]
  },
  {
   "cell_type": "markdown",
   "metadata": {},
   "source": [
    "We can see that there are no missing values in the dataset. I have checked the frequency distribution of values previously. It also confirms that there are no missing values in the dataset."
   ]
  },
  {
   "cell_type": "markdown",
   "metadata": {},
   "source": [
    "## 9. Declare feature vector and target variable"
   ]
  },
  {
   "cell_type": "code",
   "execution_count": 14,
   "metadata": {},
   "outputs": [],
   "source": [
    "X = df.iloc[:,4:]\n",
    "\n",
    "y = df['Performance']"
   ]
  },
  {
   "cell_type": "markdown",
   "metadata": {},
   "source": [
    "## 10. Split data into separate training and test set"
   ]
  },
  {
   "cell_type": "code",
   "execution_count": 15,
   "metadata": {},
   "outputs": [],
   "source": [
    "# split data into training and testing sets\n",
    "\n",
    "from sklearn.model_selection import train_test_split\n",
    "\n",
    "X_train, X_test, y_train, y_test = train_test_split(X, y, test_size = 0.33, random_state = 42)\n"
   ]
  },
  {
   "cell_type": "code",
   "execution_count": 16,
   "metadata": {},
   "outputs": [
    {
     "data": {
      "text/plain": [
       "((218, 19), (108, 19))"
      ]
     },
     "execution_count": 16,
     "metadata": {},
     "output_type": "execute_result"
    }
   ],
   "source": [
    "# check the shape of X_train and X_test\n",
    "\n",
    "X_train.shape, X_test.shape"
   ]
  },
  {
   "cell_type": "markdown",
   "metadata": {},
   "source": [
    "## 11. Feature Engineering\n",
    "\n",
    "\n",
    "**Feature Engineering** is the process of transforming raw data into useful features that help us to understand our model better and increase its predictive power. I will carry out feature engineering on different types of variables.\n",
    "\n",
    "\n",
    "First, I will check the data types of variables again."
   ]
  },
  {
   "cell_type": "code",
   "execution_count": 17,
   "metadata": {},
   "outputs": [
    {
     "data": {
      "text/plain": [
       "Earnings.per.Share               float64\n",
       "Price.to.Sales                   float64\n",
       "Operating.Margins                float64\n",
       "Price.to.Book                    float64\n",
       "ROE                              float64\n",
       "ROA                              float64\n",
       "Dividend.Yield                   float64\n",
       "EPS.Growth                       float64\n",
       "Earnings.Yield                   float64\n",
       "PE                               float64\n",
       "Debt.to.Equity                   float64\n",
       "Book.Value.Per.Share             float64\n",
       "Net.Debt.to.EBITDA               float64\n",
       "Current.Ratio                    float64\n",
       "Profit.Margin                    float64\n",
       "Total.Debt.to.Total.Asset        float64\n",
       "Return.on.Capital                float64\n",
       "FCF.to.Basic.Share               float64\n",
       "Tangible.Book.value.per.Share    float64\n",
       "dtype: object"
      ]
     },
     "execution_count": 17,
     "metadata": {},
     "output_type": "execute_result"
    }
   ],
   "source": [
    "# check data types in X_train\n",
    "\n",
    "X_train.dtypes"
   ]
  },
  {
   "cell_type": "markdown",
   "metadata": {},
   "source": [
    "### Encode categorical variables\n",
    "\n",
    "\n",
    "Now, I will encode the categorical variables."
   ]
  },
  {
   "cell_type": "code",
   "execution_count": 18,
   "metadata": {},
   "outputs": [
    {
     "data": {
      "text/html": [
       "<div>\n",
       "<style scoped>\n",
       "    .dataframe tbody tr th:only-of-type {\n",
       "        vertical-align: middle;\n",
       "    }\n",
       "\n",
       "    .dataframe tbody tr th {\n",
       "        vertical-align: top;\n",
       "    }\n",
       "\n",
       "    .dataframe thead th {\n",
       "        text-align: right;\n",
       "    }\n",
       "</style>\n",
       "<table border=\"1\" class=\"dataframe\">\n",
       "  <thead>\n",
       "    <tr style=\"text-align: right;\">\n",
       "      <th></th>\n",
       "      <th>Earnings.per.Share</th>\n",
       "      <th>Price.to.Sales</th>\n",
       "      <th>Operating.Margins</th>\n",
       "      <th>Price.to.Book</th>\n",
       "      <th>ROE</th>\n",
       "      <th>ROA</th>\n",
       "      <th>Dividend.Yield</th>\n",
       "      <th>EPS.Growth</th>\n",
       "      <th>Earnings.Yield</th>\n",
       "      <th>PE</th>\n",
       "      <th>Debt.to.Equity</th>\n",
       "      <th>Book.Value.Per.Share</th>\n",
       "      <th>Net.Debt.to.EBITDA</th>\n",
       "      <th>Current.Ratio</th>\n",
       "      <th>Profit.Margin</th>\n",
       "      <th>Total.Debt.to.Total.Asset</th>\n",
       "      <th>Return.on.Capital</th>\n",
       "      <th>FCF.to.Basic.Share</th>\n",
       "      <th>Tangible.Book.value.per.Share</th>\n",
       "    </tr>\n",
       "  </thead>\n",
       "  <tbody>\n",
       "    <tr>\n",
       "      <th>226</th>\n",
       "      <td>34.22</td>\n",
       "      <td>1.63</td>\n",
       "      <td>25.45</td>\n",
       "      <td>2.54</td>\n",
       "      <td>39.74</td>\n",
       "      <td>207067.00</td>\n",
       "      <td>-10.36</td>\n",
       "      <td>95.99</td>\n",
       "      <td>15.35</td>\n",
       "      <td>11.06</td>\n",
       "      <td>203.04</td>\n",
       "      <td>526.89</td>\n",
       "      <td>2.25</td>\n",
       "      <td>0.42</td>\n",
       "      <td>15.93</td>\n",
       "      <td>44.01</td>\n",
       "      <td>9.81</td>\n",
       "      <td>34.96</td>\n",
       "      <td>215.33</td>\n",
       "    </tr>\n",
       "    <tr>\n",
       "      <th>143</th>\n",
       "      <td>19.60</td>\n",
       "      <td>0.71</td>\n",
       "      <td>7.04</td>\n",
       "      <td>0.61</td>\n",
       "      <td>4.99</td>\n",
       "      <td>112008.00</td>\n",
       "      <td>-5.32</td>\n",
       "      <td>7.52</td>\n",
       "      <td>7.95</td>\n",
       "      <td>11.11</td>\n",
       "      <td>67.29</td>\n",
       "      <td>898.93</td>\n",
       "      <td>9.74</td>\n",
       "      <td>2.45</td>\n",
       "      <td>8.70</td>\n",
       "      <td>34.90</td>\n",
       "      <td>6.10</td>\n",
       "      <td>2.23</td>\n",
       "      <td>852.41</td>\n",
       "    </tr>\n",
       "    <tr>\n",
       "      <th>66</th>\n",
       "      <td>8.07</td>\n",
       "      <td>2.34</td>\n",
       "      <td>12.37</td>\n",
       "      <td>1.33</td>\n",
       "      <td>6.21</td>\n",
       "      <td>378684.37</td>\n",
       "      <td>-0.90</td>\n",
       "      <td>-4.99</td>\n",
       "      <td>4.58</td>\n",
       "      <td>48.76</td>\n",
       "      <td>83.62</td>\n",
       "      <td>540.86</td>\n",
       "      <td>9.34</td>\n",
       "      <td>1.73</td>\n",
       "      <td>10.28</td>\n",
       "      <td>33.03</td>\n",
       "      <td>4.82</td>\n",
       "      <td>-8.52</td>\n",
       "      <td>506.78</td>\n",
       "    </tr>\n",
       "    <tr>\n",
       "      <th>202</th>\n",
       "      <td>7.16</td>\n",
       "      <td>0.79</td>\n",
       "      <td>6.87</td>\n",
       "      <td>3.32</td>\n",
       "      <td>22.24</td>\n",
       "      <td>30039.00</td>\n",
       "      <td>0.53</td>\n",
       "      <td>26.50</td>\n",
       "      <td>6.18</td>\n",
       "      <td>11.64</td>\n",
       "      <td>85.04</td>\n",
       "      <td>93.57</td>\n",
       "      <td>0.78</td>\n",
       "      <td>0.73</td>\n",
       "      <td>7.64</td>\n",
       "      <td>19.94</td>\n",
       "      <td>16.45</td>\n",
       "      <td>-2.27</td>\n",
       "      <td>74.45</td>\n",
       "    </tr>\n",
       "    <tr>\n",
       "      <th>18</th>\n",
       "      <td>0.28</td>\n",
       "      <td>1.56</td>\n",
       "      <td>21.70</td>\n",
       "      <td>1.63</td>\n",
       "      <td>24.04</td>\n",
       "      <td>195406.20</td>\n",
       "      <td>-0.69</td>\n",
       "      <td>-42.86</td>\n",
       "      <td>14.81</td>\n",
       "      <td>12.32</td>\n",
       "      <td>189.75</td>\n",
       "      <td>16.14</td>\n",
       "      <td>5.01</td>\n",
       "      <td>1.20</td>\n",
       "      <td>7.39</td>\n",
       "      <td>57.19</td>\n",
       "      <td>8.74</td>\n",
       "      <td>0.81</td>\n",
       "      <td>9.78</td>\n",
       "    </tr>\n",
       "  </tbody>\n",
       "</table>\n",
       "</div>"
      ],
      "text/plain": [
       "     Earnings.per.Share  Price.to.Sales  Operating.Margins  Price.to.Book  \\\n",
       "226               34.22            1.63              25.45           2.54   \n",
       "143               19.60            0.71               7.04           0.61   \n",
       "66                 8.07            2.34              12.37           1.33   \n",
       "202                7.16            0.79               6.87           3.32   \n",
       "18                 0.28            1.56              21.70           1.63   \n",
       "\n",
       "       ROE        ROA  Dividend.Yield  EPS.Growth  Earnings.Yield     PE  \\\n",
       "226  39.74  207067.00          -10.36       95.99           15.35  11.06   \n",
       "143   4.99  112008.00           -5.32        7.52            7.95  11.11   \n",
       "66    6.21  378684.37           -0.90       -4.99            4.58  48.76   \n",
       "202  22.24   30039.00            0.53       26.50            6.18  11.64   \n",
       "18   24.04  195406.20           -0.69      -42.86           14.81  12.32   \n",
       "\n",
       "     Debt.to.Equity  Book.Value.Per.Share  Net.Debt.to.EBITDA  Current.Ratio  \\\n",
       "226          203.04                526.89                2.25           0.42   \n",
       "143           67.29                898.93                9.74           2.45   \n",
       "66            83.62                540.86                9.34           1.73   \n",
       "202           85.04                 93.57                0.78           0.73   \n",
       "18           189.75                 16.14                5.01           1.20   \n",
       "\n",
       "     Profit.Margin  Total.Debt.to.Total.Asset  Return.on.Capital  \\\n",
       "226          15.93                      44.01               9.81   \n",
       "143           8.70                      34.90               6.10   \n",
       "66           10.28                      33.03               4.82   \n",
       "202           7.64                      19.94              16.45   \n",
       "18            7.39                      57.19               8.74   \n",
       "\n",
       "     FCF.to.Basic.Share  Tangible.Book.value.per.Share  \n",
       "226               34.96                         215.33  \n",
       "143                2.23                         852.41  \n",
       "66                -8.52                         506.78  \n",
       "202               -2.27                          74.45  \n",
       "18                 0.81                           9.78  "
      ]
     },
     "execution_count": 18,
     "metadata": {},
     "output_type": "execute_result"
    }
   ],
   "source": [
    "X_train.head()"
   ]
  },
  {
   "cell_type": "markdown",
   "metadata": {},
   "source": [
    "We can see that all  the variables are numerical data type."
   ]
  },
  {
   "cell_type": "markdown",
   "metadata": {},
   "source": [
    "We now have training and test set ready for model building. "
   ]
  },
  {
   "cell_type": "markdown",
   "metadata": {},
   "source": [
    "## 12. Random Forest Classifier model with default parameters"
   ]
  },
  {
   "cell_type": "code",
   "execution_count": 19,
   "metadata": {},
   "outputs": [
    {
     "name": "stdout",
     "output_type": "stream",
     "text": [
      "Model accuracy score with 10 decision-trees : 0.5463\n"
     ]
    }
   ],
   "source": [
    "# import Random Forest classifier\n",
    "\n",
    "from sklearn.ensemble import RandomForestClassifier\n",
    "\n",
    "# instantiate the classifier \n",
    "\n",
    "rfc = RandomForestClassifier(random_state=0)\n",
    "\n",
    "# fit the model\n",
    "\n",
    "rfc.fit(X_train, y_train)\n",
    "\n",
    "# Predict the Test set results\n",
    "\n",
    "y_pred = rfc.predict(X_test)\n",
    "\n",
    "# Check accuracy score \n",
    "\n",
    "from sklearn.metrics import accuracy_score\n",
    "\n",
    "print('Model accuracy score with 10 decision-trees : {0:0.4f}'. format(accuracy_score(y_test, y_pred)))"
   ]
  },
  {
   "cell_type": "markdown",
   "metadata": {},
   "source": [
    "Here, **y_test** are the true class labels and **y_pred** are the predicted class labels in the test-set."
   ]
  },
  {
   "cell_type": "markdown",
   "metadata": {},
   "source": [
    "Here, I have build the Random Forest Classifier model with default parameter of `n_estimators = 10`. So, I have used 10 decision-trees to build the model. Now, I will increase the number of decision-trees and see its effect on accuracy."
   ]
  },
  {
   "cell_type": "markdown",
   "metadata": {},
   "source": [
    "## 13. Random Forest Classifier model with parameter n_estimators=1000."
   ]
  },
  {
   "cell_type": "code",
   "execution_count": 27,
   "metadata": {},
   "outputs": [
    {
     "name": "stdout",
     "output_type": "stream",
     "text": [
      "Model accuracy score with 100 decision-trees : 0.5370\n"
     ]
    }
   ],
   "source": [
    "# instantiate the classifier with n_estimators = 100\n",
    "\n",
    "rfc_1000 = RandomForestClassifier(n_estimators=1000, random_state=0)\n",
    "\n",
    "# fit the model to the training set\n",
    "\n",
    "rfc_1000.fit(X_train, y_train)\n",
    "\n",
    "# Predict on the test set results\n",
    "\n",
    "y_pred_1000 = rfc_1000.predict(X_test)\n",
    "\n",
    "# Check accuracy score \n",
    "\n",
    "print('Model accuracy score with 100 decision-trees : {0:0.4f}'. format(accuracy_score(y_test, y_pred_100)))"
   ]
  },
  {
   "cell_type": "markdown",
   "metadata": {},
   "source": [
    "The model accuracy score with 10 decision-trees is 0.5463 but the same with 1000 decision-trees is 0.5370. So, as expected accuracy decreases with number of decision-trees in the model."
   ]
  },
  {
   "cell_type": "markdown",
   "metadata": {},
   "source": [
    "## 14. Find important features with Random Forest model\n",
    "\n",
    "\n",
    "Until now, I have used all the features given in the model. Now, I will select only the important features, build the model using these features and see its effect on accuracy. \n",
    "\n",
    "\n",
    "First, I will create the Random Forest model as follows:-"
   ]
  },
  {
   "cell_type": "code",
   "execution_count": 30,
   "metadata": {},
   "outputs": [
    {
     "data": {
      "text/plain": [
       "RandomForestClassifier(random_state=0)"
      ]
     },
     "execution_count": 30,
     "metadata": {},
     "output_type": "execute_result"
    }
   ],
   "source": [
    "# create the classifier with n_estimators = 100\n",
    "\n",
    "clf = RandomForestClassifier(n_estimators=100, random_state=0)\n",
    "\n",
    "# fit the model to the training set\n",
    "\n",
    "clf.fit(X_train, y_train)"
   ]
  },
  {
   "cell_type": "markdown",
   "metadata": {},
   "source": [
    "Now, I will use the feature importance variable to see feature importance scores."
   ]
  },
  {
   "cell_type": "code",
   "execution_count": 32,
   "metadata": {
    "scrolled": true
   },
   "outputs": [
    {
     "data": {
      "text/plain": [
       "EPS.Growth                       0.066468\n",
       "Earnings.per.Share               0.063612\n",
       "Dividend.Yield                   0.061314\n",
       "Return.on.Capital                0.059462\n",
       "Debt.to.Equity                   0.059326\n",
       "Current.Ratio                    0.056378\n",
       "Profit.Margin                    0.054367\n",
       "ROA                              0.053964\n",
       "PE                               0.053771\n",
       "Price.to.Book                    0.053657\n",
       "Earnings.Yield                   0.050458\n",
       "FCF.to.Basic.Share               0.049388\n",
       "Operating.Margins                0.049164\n",
       "Total.Debt.to.Total.Asset        0.048645\n",
       "ROE                              0.048034\n",
       "Book.Value.Per.Share             0.046291\n",
       "Tangible.Book.value.per.Share    0.045892\n",
       "Price.to.Sales                   0.041292\n",
       "Net.Debt.to.EBITDA               0.038517\n",
       "dtype: float64"
      ]
     },
     "execution_count": 32,
     "metadata": {},
     "output_type": "execute_result"
    }
   ],
   "source": [
    "# view the feature scores\n",
    "\n",
    "feature_scores = pd.Series(clf.feature_importances_, index=X_train.columns).sort_values(ascending=False)\n",
    "\n",
    "feature_scores"
   ]
  },
  {
   "cell_type": "markdown",
   "metadata": {},
   "source": [
    "The higher the score, the more important the feature is."
   ]
  },
  {
   "cell_type": "markdown",
   "metadata": {},
   "source": [
    "## 15. Visualize the feature scores of the features\n",
    "\n",
    "\n",
    "Now, I will visualize the feature scores with matplotlib and seaborn."
   ]
  },
  {
   "cell_type": "code",
   "execution_count": 33,
   "metadata": {},
   "outputs": [
    {
     "data": {
      "image/png": "[encoded data removed]",
      "text/plain": [
       "<Figure size 432x288 with 1 Axes>"
      ]
     },
     "metadata": {
      "needs_background": "light"
     },
     "output_type": "display_data"
    }
   ],
   "source": [
    "# Creating a seaborn bar plot\n",
    "\n",
    "sns.barplot(x=feature_scores, y=feature_scores.index)\n",
    "\n",
    "# Add labels to the graph\n",
    "\n",
    "plt.xlabel('Feature Importance Score')\n",
    "\n",
    "plt.ylabel('Features')\n",
    "\n",
    "# Add title to the graph\n",
    "\n",
    "plt.title(\"Visualizing Important Features\")\n",
    "\n",
    "# Visualize the graph\n",
    "\n",
    "plt.show()"
   ]
  },
  {
   "cell_type": "markdown",
   "metadata": {},
   "source": [
    "## 17. Build the Random Forest model on selected features"
   ]
  },
  {
   "cell_type": "code",
   "execution_count": 37,
   "metadata": {},
   "outputs": [],
   "source": [
    "# declare feature vector and target variable\n",
    "\n",
    "X = df.drop(['Net.Debt.to.EBITDA','Price.to.Sales','X','Quarters', 'Performance', 'Weights'], axis=1)\n",
    "\n",
    "y = df['Performance']"
   ]
  },
  {
   "cell_type": "code",
   "execution_count": 38,
   "metadata": {},
   "outputs": [],
   "source": [
    "# split data into training and testing sets\n",
    "\n",
    "from sklearn.model_selection import train_test_split\n",
    "\n",
    "X_train, X_test, y_train, y_test = train_test_split(X, y, test_size = 0.33, random_state = 42)\n"
   ]
  },
  {
   "cell_type": "markdown",
   "metadata": {},
   "source": [
    "Now, I will build the random forest model and check accuracy."
   ]
  },
  {
   "cell_type": "code",
   "execution_count": 42,
   "metadata": {},
   "outputs": [
    {
     "name": "stdout",
     "output_type": "stream",
     "text": [
      "Model accuracy score with some variables removed : 0.5556\n"
     ]
    }
   ],
   "source": [
    "# instantiate the classifier with n_estimators = 100\n",
    "\n",
    "clf = RandomForestClassifier(random_state=0)\n",
    "\n",
    "# fit the model to the training set\n",
    "\n",
    "clf.fit(X_train, y_train)\n",
    "\n",
    "# Predict on the test set results\n",
    "\n",
    "y_pred = clf.predict(X_test)\n",
    "\n",
    "# Check accuracy score \n",
    "\n",
    "print('Model accuracy score with some variables removed : {0:0.4f}'. format(accuracy_score(y_test, y_pred)))\n"
   ]
  },
  {
   "cell_type": "markdown",
   "metadata": {},
   "source": [
    "## 18. Confusion matrix\n",
    "\n",
    "\n",
    "A confusion matrix is a tool for summarizing the performance of a classification algorithm. A confusion matrix will give us a clear picture of classification model performance and the types of errors produced by the model. It gives us a summary of correct and incorrect predictions broken down by each category. The summary is represented in a tabular form.\n",
    "\n",
    "\n",
    "Four types of outcomes are possible while evaluating a classification model performance. These four outcomes are described below:-\n",
    "\n",
    "\n",
    "**True Positives (TP)** – True Positives occur when we predict an observation belongs to a certain class and the observation actually belongs to that class.\n",
    "\n",
    "\n",
    "**True Negatives (TN)** – True Negatives occur when we predict an observation does not belong to a certain class and the observation actually does not belong to that class.\n",
    "\n",
    "\n",
    "**False Positives (FP)** – False Positives occur when we predict an observation belongs to a    certain class but the observation actually does not belong to that class. This type of error is called **Type I error.**\n",
    "\n",
    "\n",
    "\n",
    "**False Negatives (FN)** – False Negatives occur when we predict an observation does not belong to a certain class but the observation actually belongs to that class. This is a very serious error and it is called **Type II error.**\n",
    "\n",
    "\n",
    "\n",
    "These four outcomes are summarized in a confusion matrix given below.\n"
   ]
  },
  {
   "cell_type": "code",
   "execution_count": 45,
   "metadata": {},
   "outputs": [
    {
     "name": "stdout",
     "output_type": "stream",
     "text": [
      "Confusion matrix\n",
      "\n",
      "\n"
     ]
    },
    {
     "data": {
      "text/html": [
       "<div>\n",
       "<style scoped>\n",
       "    .dataframe tbody tr th:only-of-type {\n",
       "        vertical-align: middle;\n",
       "    }\n",
       "\n",
       "    .dataframe tbody tr th {\n",
       "        vertical-align: top;\n",
       "    }\n",
       "\n",
       "    .dataframe thead th {\n",
       "        text-align: right;\n",
       "    }\n",
       "</style>\n",
       "<table border=\"1\" class=\"dataframe\">\n",
       "  <thead>\n",
       "    <tr style=\"text-align: right;\">\n",
       "      <th></th>\n",
       "      <th>0</th>\n",
       "      <th>1</th>\n",
       "    </tr>\n",
       "  </thead>\n",
       "  <tbody>\n",
       "    <tr>\n",
       "      <th>0</th>\n",
       "      <td>36</td>\n",
       "      <td>20</td>\n",
       "    </tr>\n",
       "    <tr>\n",
       "      <th>1</th>\n",
       "      <td>28</td>\n",
       "      <td>24</td>\n",
       "    </tr>\n",
       "  </tbody>\n",
       "</table>\n",
       "</div>"
      ],
      "text/plain": [
       "    0   1\n",
       "0  36  20\n",
       "1  28  24"
      ]
     },
     "execution_count": 45,
     "metadata": {},
     "output_type": "execute_result"
    }
   ],
   "source": [
    "# Print the Confusion Matrix and slice it into four pieces\n",
    "\n",
    "from sklearn.metrics import confusion_matrix\n",
    "\n",
    "cm = confusion_matrix(y_test, y_pred)\n",
    "\n",
    "print('Confusion matrix\\n\\n')\n",
    "\n",
    "pd.DataFrame(cm)"
   ]
  },
  {
   "cell_type": "markdown",
   "metadata": {},
   "source": [
    "## 19. Classification Report\n",
    "\n",
    "\n",
    "**Classification report** is another way to evaluate the classification model performance. It displays the  **precision**, **recall**, **f1** and **support** scores for the model. I have described these terms in later.\n",
    "\n",
    "We can print a classification report as follows:-"
   ]
  },
  {
   "cell_type": "code",
   "execution_count": 41,
   "metadata": {},
   "outputs": [
    {
     "name": "stdout",
     "output_type": "stream",
     "text": [
      "              precision    recall  f1-score   support\n",
      "\n",
      "           0       0.56      0.64      0.60        56\n",
      "           1       0.55      0.46      0.50        52\n",
      "\n",
      "    accuracy                           0.56       108\n",
      "   macro avg       0.55      0.55      0.55       108\n",
      "weighted avg       0.55      0.56      0.55       108\n",
      "\n"
     ]
    }
   ],
   "source": [
    "from sklearn.metrics import classification_report\n",
    "\n",
    "print(classification_report(y_test, y_pred))"
   ]
  }
 ],
 "metadata": {
  "kernelspec": {
   "display_name": "Python 3 (ipykernel)",
   "language": "python",
   "name": "python3"
  },
  "language_info": {
   "codemirror_mode": {
    "name": "ipython",
    "version": 3
   },
   "file_extension": ".py",
   "mimetype": "text/x-python",
   "name": "python",
   "nbconvert_exporter": "python",
   "pygments_lexer": "ipython3",
   "version": "3.9.12"
  }
 },
 "nbformat": 4,
 "nbformat_minor": 4
}
