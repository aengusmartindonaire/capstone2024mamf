{
 "cells": [
  {
   "cell_type": "markdown",
   "metadata": {},
   "source": [
    "# PSEI Stock Performance: A Random Forest Classification Method"
   ]
  },
  {
   "cell_type": "markdown",
   "metadata": {},
   "source": [
    "## 1. Introduction to Random Forest algorithm\n",
    "\n",
    "\n",
    "\n",
    "Random forest is a supervised learning algorithm. It has two variations – one is used for classification problems and other is used for regression problems. It is one of the most flexible and easy to use algorithm. It creates decision trees on the given data samples, gets prediction from each tree and selects the best solution by means of voting. It is also a pretty good indicator of feature importance.\n",
    "\n",
    "\n",
    "Random forest algorithm combines multiple decision-trees, resulting in a forest of trees, hence the name `Random Forest`. In the random forest classifier, the higher the number of trees in the forest results in higher accuracy.\n",
    "\n"
   ]
  },
  {
   "cell_type": "markdown",
   "metadata": {},
   "source": [
    "## 2. Random Forest algorithm intuition\n",
    "\n",
    "\n",
    "Random forest algorithm intuition can be divided into two stages. \n",
    "\n",
    "\n",
    "In the first stage, we randomly select “k” features out of total `m` features and build the random forest. In the first stage, we proceed as follows:-\n",
    "\n",
    "1.\tRandomly select `k` features from a total of `m` features where `k < m`.\n",
    "2.\tAmong the `k` features, calculate the node `d` using the best split point.\n",
    "3.\tSplit the node into daughter nodes using the best split.\n",
    "4.\tRepeat 1 to 3 steps until `l` number of nodes has been reached.\n",
    "5.\tBuild forest by repeating steps 1 to 4 for `n` number of times to create `n` number of trees.\n",
    "\n",
    "\n",
    "In the second stage, we make predictions using the trained random forest algorithm. \n",
    "\n",
    "1.\tWe take the test features and use the rules of each randomly created decision tree to predict the outcome and stores the predicted outcome.\n",
    "2.\tThen, we calculate the votes for each predicted target.\n",
    "3.\tFinally, we consider the high voted predicted target as the final prediction from the random forest algorithm.\n"
   ]
  },
  {
   "cell_type": "markdown",
   "metadata": {},
   "source": [
    "## 3. Advantages and disadvantages of Random Forest algorithm\n",
    "\n",
    "\n",
    "The advantages of Random forest algorithm are as follows:-\n",
    "\n",
    "\n",
    "1.\tRandom forest algorithm can be used to solve both classification and regression problems.\n",
    "2.\tIt is considered as very accurate and robust model because it uses large number of decision-trees to make predictions.\n",
    "3.\tRandom forests takes the average of all the predictions made by the decision-trees, which cancels out the biases. So, it does not suffer from the overfitting problem. \n",
    "4.\tRandom forest classifier can handle the missing values. There are two ways to handle the missing values. First is to use median values to replace continuous variables and second is to compute the proximity-weighted average of missing values.\n",
    "5.\tRandom forest classifier can be used for feature selection. It means selecting the most important features out of the available features from the training dataset.\n",
    "\n",
    "\n",
    "The disadvantages of Random Forest algorithm are listed below:-\n",
    "\n",
    "\n",
    "1.\tThe biggest disadvantage of random forests is its computational complexity. Random forests is very slow in making predictions because large number of decision-trees are used to make predictions. All the trees in the forest have to make a prediction for the same input and then perform voting on it. So, it is a time-consuming process.\n",
    "2.\tThe model is difficult to interpret as compared to a decision-tree, where we can easily make a prediction as compared to a decision-tree.\n"
   ]
  },
  {
   "cell_type": "markdown",
   "metadata": {},
   "source": [
    "## 4. Feature selection with Random Forests\n",
    "\n",
    "\n",
    "\n",
    "Random forests algorithm can be used for feature selection process. This algorithm can be used to rank the importance of variables in a regression or classification problem. \n",
    "\n",
    "\n",
    "We measure the variable importance in a dataset by fitting the random forest algorithm to the data. During the fitting process, the out-of-bag error for each data point is recorded and averaged over the forest. \n",
    "\n",
    "\n",
    "The importance of the j-th feature was measured after training. The values of the j-th feature were permuted among the training data and the out-of-bag error was again computed on this perturbed dataset. The importance score for the j-th feature is computed by averaging the difference in out-of-bag error before and after the permutation over all trees. The score is normalized by the standard deviation of these differences.\n",
    "\n",
    "\n",
    "Features which produce large values for this score are ranked as more important than features which produce small values. Based on this score, we will choose the most important features and drop the least important ones for model building. \n"
   ]
  },
  {
   "cell_type": "markdown",
   "metadata": {},
   "source": [
    "## 5. Dataset description\n",
    "\n",
    "\n",
    "The dataset used here were ratios extract from **Bloomberg Terminal** of AB Capital."
   ]
  },
  {
   "cell_type": "markdown",
   "metadata": {},
   "source": [
    "## 6. Import libraries"
   ]
  },
  {
   "cell_type": "code",
   "execution_count": 4,
   "metadata": {},
   "outputs": [],
   "source": [
    "import pandas as pd\n",
    "import numpy as np\n",
    "import matplotlib.pyplot as plt\n",
    "import seaborn as sns\n",
    "%matplotlib inline"
   ]
  },
  {
   "cell_type": "code",
   "execution_count": 5,
   "metadata": {},
   "outputs": [],
   "source": [
    "import warnings\n",
    "\n",
    "warnings.filterwarnings('ignore')"
   ]
  },
  {
   "cell_type": "markdown",
   "metadata": {},
   "source": [
    "## 7. Import and cleaning the datasets for training and backtesting"
   ]
  },
  {
   "cell_type": "code",
   "execution_count": 94,
   "metadata": {},
   "outputs": [],
   "source": [
    "df_testing_raw = pd.read_csv('Base 2 Back Testing.csv')\n",
    "df_training_raw = pd.read_csv('Base 2 Training.csv')\n",
    "\n",
    "df_training = df_training_raw.dropna()\n",
    "df_testing = df_testing_raw.dropna()\n",
    "\n",
    "X_training = df_training.iloc[:,5:]\n",
    "X_test = df_testing.iloc[:,5:]\n",
    "\n",
    "y_training = df_training.iloc[:,3]\n",
    "y_test = df_testing.iloc[:,3]"
   ]
  },
  {
   "cell_type": "markdown",
   "metadata": {},
   "source": [
    "## 8. Exploratory data analysis\n",
    "\n",
    "\n",
    "Now, I will explore the data to gain insights about the data. "
   ]
  },
  {
   "cell_type": "code",
   "execution_count": 36,
   "metadata": {},
   "outputs": [
    {
     "name": "stdout",
     "output_type": "stream",
     "text": [
      "(41, 24) (128, 24)\n"
     ]
    }
   ],
   "source": [
    "# view dimensions of dataset\n",
    "\n",
    "print(df_testing.shape, df_training.shape)"
   ]
  },
  {
   "cell_type": "markdown",
   "metadata": {},
   "source": [
    "We can see that there are 326 instances and 23 variables in the data set. However, only 22 variables (columns) will be used since one column is for the weights of each stock in a particular quarter."
   ]
  },
  {
   "cell_type": "markdown",
   "metadata": {},
   "source": [
    "### View top 5 rows of dataset"
   ]
  },
  {
   "cell_type": "code",
   "execution_count": 37,
   "metadata": {},
   "outputs": [
    {
     "data": {
      "text/html": [
       "<div>\n",
       "<style scoped>\n",
       "    .dataframe tbody tr th:only-of-type {\n",
       "        vertical-align: middle;\n",
       "    }\n",
       "\n",
       "    .dataframe tbody tr th {\n",
       "        vertical-align: top;\n",
       "    }\n",
       "\n",
       "    .dataframe thead th {\n",
       "        text-align: right;\n",
       "    }\n",
       "</style>\n",
       "<table border=\"1\" class=\"dataframe\">\n",
       "  <thead>\n",
       "    <tr style=\"text-align: right;\">\n",
       "      <th></th>\n",
       "      <th>Unnamed: 0</th>\n",
       "      <th>Unnamed: 1</th>\n",
       "      <th>Quarters</th>\n",
       "      <th>Performance</th>\n",
       "      <th>Weights</th>\n",
       "      <th>Earnings per Share</th>\n",
       "      <th>Price to Sales</th>\n",
       "      <th>Operating Margins</th>\n",
       "      <th>Price to Book</th>\n",
       "      <th>ROE</th>\n",
       "      <th>...</th>\n",
       "      <th>PE</th>\n",
       "      <th>Debt to Equity</th>\n",
       "      <th>Book Value Per Share</th>\n",
       "      <th>Net Debt to EBITDA</th>\n",
       "      <th>Current Ratio</th>\n",
       "      <th>Profit Margin</th>\n",
       "      <th>Total Debt to Total Asset</th>\n",
       "      <th>Return on Capital</th>\n",
       "      <th>FCF to Basic Share</th>\n",
       "      <th>Tangible Book value per Share</th>\n",
       "    </tr>\n",
       "  </thead>\n",
       "  <tbody>\n",
       "    <tr>\n",
       "      <th>0</th>\n",
       "      <td>ABOITIZ EQUITY VENTURES INC</td>\n",
       "      <td>3</td>\n",
       "      <td>9/30/22</td>\n",
       "      <td>1</td>\n",
       "      <td>4.29</td>\n",
       "      <td>0.61</td>\n",
       "      <td>NaN</td>\n",
       "      <td>4.50</td>\n",
       "      <td>NaN</td>\n",
       "      <td>14.02</td>\n",
       "      <td>...</td>\n",
       "      <td>NaN</td>\n",
       "      <td>107.59</td>\n",
       "      <td>45.32</td>\n",
       "      <td>5.31</td>\n",
       "      <td>1.94</td>\n",
       "      <td>3.84</td>\n",
       "      <td>46.64</td>\n",
       "      <td>7.49</td>\n",
       "      <td>1.66</td>\n",
       "      <td>31.4</td>\n",
       "    </tr>\n",
       "    <tr>\n",
       "      <th>1</th>\n",
       "      <td>ABOITIZ EQUITY VENTURES INC</td>\n",
       "      <td>4</td>\n",
       "      <td>12/29/22</td>\n",
       "      <td>0</td>\n",
       "      <td>3.58</td>\n",
       "      <td>0.71</td>\n",
       "      <td>0.85</td>\n",
       "      <td>9.42</td>\n",
       "      <td>1.07</td>\n",
       "      <td>13.95</td>\n",
       "      <td>...</td>\n",
       "      <td>10.96</td>\n",
       "      <td>108.06</td>\n",
       "      <td>45.31</td>\n",
       "      <td>6.44</td>\n",
       "      <td>1.80</td>\n",
       "      <td>5.28</td>\n",
       "      <td>46.88</td>\n",
       "      <td>8.10</td>\n",
       "      <td>2.35</td>\n",
       "      <td>31.37</td>\n",
       "    </tr>\n",
       "    <tr>\n",
       "      <th>2</th>\n",
       "      <td>ABOITIZ EQUITY VENTURES INC</td>\n",
       "      <td>1</td>\n",
       "      <td>3/31/23</td>\n",
       "      <td>0</td>\n",
       "      <td>4.01</td>\n",
       "      <td>1.15</td>\n",
       "      <td>0.93</td>\n",
       "      <td>13.48</td>\n",
       "      <td>1.17</td>\n",
       "      <td>13.63</td>\n",
       "      <td>...</td>\n",
       "      <td>13.06</td>\n",
       "      <td>103.86</td>\n",
       "      <td>46.42</td>\n",
       "      <td>5.36</td>\n",
       "      <td>1.79</td>\n",
       "      <td>7.81</td>\n",
       "      <td>46.10</td>\n",
       "      <td>8.05</td>\n",
       "      <td>-0.52</td>\n",
       "      <td>32.3</td>\n",
       "    </tr>\n",
       "    <tr>\n",
       "      <th>3</th>\n",
       "      <td>ABOITIZ EQUITY VENTURES INC</td>\n",
       "      <td>2</td>\n",
       "      <td>6/30/23</td>\n",
       "      <td>1</td>\n",
       "      <td>3.76</td>\n",
       "      <td>1.34</td>\n",
       "      <td>NaN</td>\n",
       "      <td>13.98</td>\n",
       "      <td>NaN</td>\n",
       "      <td>12.52</td>\n",
       "      <td>...</td>\n",
       "      <td>NaN</td>\n",
       "      <td>104.77</td>\n",
       "      <td>47.35</td>\n",
       "      <td>5.44</td>\n",
       "      <td>1.85</td>\n",
       "      <td>10.23</td>\n",
       "      <td>46.57</td>\n",
       "      <td>7.67</td>\n",
       "      <td>1.65</td>\n",
       "      <td>32.83</td>\n",
       "    </tr>\n",
       "    <tr>\n",
       "      <th>4</th>\n",
       "      <td>ABOITIZ POWER CORP</td>\n",
       "      <td>3</td>\n",
       "      <td>9/30/22</td>\n",
       "      <td>1</td>\n",
       "      <td>1.32</td>\n",
       "      <td>1.09</td>\n",
       "      <td>NaN</td>\n",
       "      <td>6.42</td>\n",
       "      <td>NaN</td>\n",
       "      <td>18.80</td>\n",
       "      <td>...</td>\n",
       "      <td>NaN</td>\n",
       "      <td>139.43</td>\n",
       "      <td>22.98</td>\n",
       "      <td>4.71</td>\n",
       "      <td>1.78</td>\n",
       "      <td>13.81</td>\n",
       "      <td>52.03</td>\n",
       "      <td>10.20</td>\n",
       "      <td>1.44</td>\n",
       "      <td>16.21</td>\n",
       "    </tr>\n",
       "  </tbody>\n",
       "</table>\n",
       "<p>5 rows × 24 columns</p>\n",
       "</div>"
      ],
      "text/plain": [
       "                    Unnamed: 0  Unnamed: 1  Quarters  Performance  Weights  \\\n",
       "0  ABOITIZ EQUITY VENTURES INC           3   9/30/22            1     4.29   \n",
       "1  ABOITIZ EQUITY VENTURES INC           4  12/29/22            0     3.58   \n",
       "2  ABOITIZ EQUITY VENTURES INC           1   3/31/23            0     4.01   \n",
       "3  ABOITIZ EQUITY VENTURES INC           2   6/30/23            1     3.76   \n",
       "4           ABOITIZ POWER CORP           3   9/30/22            1     1.32   \n",
       "\n",
       "   Earnings per Share  Price to Sales  Operating Margins  Price to Book  \\\n",
       "0                0.61             NaN               4.50            NaN   \n",
       "1                0.71            0.85               9.42           1.07   \n",
       "2                1.15            0.93              13.48           1.17   \n",
       "3                1.34             NaN              13.98            NaN   \n",
       "4                1.09             NaN               6.42            NaN   \n",
       "\n",
       "     ROE  ...     PE  Debt to Equity Book Value Per Share  Net Debt to EBITDA  \\\n",
       "0  14.02  ...    NaN          107.59                45.32                5.31   \n",
       "1  13.95  ...  10.96          108.06                45.31                6.44   \n",
       "2  13.63  ...  13.06          103.86                46.42                5.36   \n",
       "3  12.52  ...    NaN          104.77                47.35                5.44   \n",
       "4  18.80  ...    NaN          139.43                22.98                4.71   \n",
       "\n",
       "   Current Ratio  Profit Margin Total Debt to Total Asset  Return on Capital  \\\n",
       "0           1.94           3.84                     46.64               7.49   \n",
       "1           1.80           5.28                     46.88               8.10   \n",
       "2           1.79           7.81                     46.10               8.05   \n",
       "3           1.85          10.23                     46.57               7.67   \n",
       "4           1.78          13.81                     52.03              10.20   \n",
       "\n",
       "   FCF to Basic Share  Tangible Book value per Share  \n",
       "0                1.66                           31.4  \n",
       "1                2.35                          31.37  \n",
       "2               -0.52                           32.3  \n",
       "3                1.65                          32.83  \n",
       "4                1.44                          16.21  \n",
       "\n",
       "[5 rows x 24 columns]"
      ]
     },
     "execution_count": 37,
     "metadata": {},
     "output_type": "execute_result"
    }
   ],
   "source": [
    "# preview the dataset\n",
    "\n",
    "df_training.head()"
   ]
  },
  {
   "cell_type": "markdown",
   "metadata": {},
   "source": [
    "### Check column names"
   ]
  },
  {
   "cell_type": "code",
   "execution_count": 38,
   "metadata": {},
   "outputs": [
    {
     "data": {
      "text/plain": [
       "Index(['Unnamed: 0', 'Unnamed: 1', 'Quarters', 'Performance', 'Weights',\n",
       "       'Earnings per Share', 'Price to Sales', 'Operating Margins',\n",
       "       'Price to Book', 'ROE', 'ROA', 'Dividend Yield', 'EPS Growth',\n",
       "       'Earnings Yield', 'PE', 'Debt to Equity', 'Book Value Per Share',\n",
       "       'Net Debt to EBITDA', 'Current Ratio', 'Profit Margin',\n",
       "       'Total Debt to Total Asset', 'Return on Capital', 'FCF to Basic Share',\n",
       "       'Tangible Book value per Share'],\n",
       "      dtype='object')"
      ]
     },
     "execution_count": 38,
     "metadata": {},
     "output_type": "execute_result"
    }
   ],
   "source": [
    "df_training.columns "
   ]
  },
  {
   "cell_type": "markdown",
   "metadata": {},
   "source": [
    "We can see that the column names are renamed. Now, the columns have meaningful names."
   ]
  },
  {
   "cell_type": "markdown",
   "metadata": {},
   "source": [
    "### View summary of dataset"
   ]
  },
  {
   "cell_type": "code",
   "execution_count": 39,
   "metadata": {},
   "outputs": [
    {
     "name": "stdout",
     "output_type": "stream",
     "text": [
      "<class 'pandas.core.frame.DataFrame'>\n",
      "RangeIndex: 128 entries, 0 to 127\n",
      "Data columns (total 24 columns):\n",
      " #   Column                         Non-Null Count  Dtype  \n",
      "---  ------                         --------------  -----  \n",
      " 0   Unnamed: 0                     128 non-null    object \n",
      " 1   Unnamed: 1                     128 non-null    int64  \n",
      " 2   Quarters                       128 non-null    object \n",
      " 3   Performance                    128 non-null    int64  \n",
      " 4   Weights                        128 non-null    float64\n",
      " 5   Earnings per Share             123 non-null    float64\n",
      " 6   Price to Sales                 62 non-null     float64\n",
      " 7   Operating Margins              122 non-null    float64\n",
      " 8   Price to Book                  62 non-null     float64\n",
      " 9   ROE                            122 non-null    float64\n",
      " 10  ROA                            122 non-null    object \n",
      " 11  Dividend Yield                 58 non-null     float64\n",
      " 12  EPS Growth                     120 non-null    object \n",
      " 13  Earnings Yield                 60 non-null     float64\n",
      " 14  PE                             58 non-null     float64\n",
      " 15  Debt to Equity                 122 non-null    float64\n",
      " 16  Book Value Per Share           122 non-null    object \n",
      " 17  Net Debt to EBITDA             103 non-null    float64\n",
      " 18  Current Ratio                  106 non-null    float64\n",
      " 19  Profit Margin                  123 non-null    float64\n",
      " 20  Total Debt to Total Asset      122 non-null    float64\n",
      " 21  Return on Capital              113 non-null    float64\n",
      " 22  FCF to Basic Share             101 non-null    float64\n",
      " 23  Tangible Book value per Share  109 non-null    object \n",
      "dtypes: float64(16), int64(2), object(6)\n",
      "memory usage: 24.1+ KB\n"
     ]
    }
   ],
   "source": [
    "df_training.info()"
   ]
  },
  {
   "cell_type": "markdown",
   "metadata": {},
   "source": [
    "### Frequency distribution of values in variables\n",
    "\n",
    "Now, I will check the frequency counts of categorical variables."
   ]
  },
  {
   "cell_type": "code",
   "execution_count": 47,
   "metadata": {},
   "outputs": [
    {
     "name": "stdout",
     "output_type": "stream",
     "text": [
      "ABOITIZ EQUITY VENTURES INC     13\n",
      "GLOBE TELECOM INC               13\n",
      "SM PRIME HOLDINGS INC           13\n",
      "ROBINSONS RETAIL HOLDINGS IN    13\n",
      "ROBINSONS LAND CO               13\n",
      "PUREGOLD PRICE CLUB INC         13\n",
      "PLDT INC                        13\n",
      "MANILA ELECTRIC COMPANY         13\n",
      "ABOITIZ POWER CORP              13\n",
      "UNIVERSAL ROBINA CORP           13\n",
      "EMPERADOR INC                   13\n",
      "ALLIANCE GLOBAL GROUP INC       13\n",
      "FIRST GEN CORPORATION           13\n",
      "AYALA CORPORATION               13\n",
      "AYALA LAND INC                  13\n",
      "DMCI HOLDINGS INC               13\n",
      "INTL CONTAINER TERM SVCS INC    12\n",
      "SM INVESTMENTS CORP             11\n",
      "GT CAPITAL HOLDINGS INC         11\n",
      "METRO PACIFIC INVESTMENTS CO    10\n",
      "LT GROUP INC                    10\n",
      "JOLLIBEE FOODS CORP              7\n",
      "PETRON CORP                      5\n",
      "JG SUMMIT HOLDINGS INC           5\n",
      "SAN MIGUEL CORP                  3\n",
      "ENERGY DEVELOPMENT CORP          2\n",
      "SEMIRARA MINING AND POWER CO     1\n",
      "Name: Unnamed: 0, dtype: int64\n",
      "4    91\n",
      "2    88\n",
      "1    83\n",
      "3    23\n",
      "Name: Unnamed: 1, dtype: int64\n",
      "12/29/16    25\n",
      "3/31/17     25\n",
      "6/28/19     24\n",
      "12/31/21    24\n",
      "9/30/21     23\n",
      "6/30/22     23\n",
      "3/31/22     22\n",
      "12/27/19    21\n",
      "6/30/20     21\n",
      "12/29/20    21\n",
      "6/30/21     20\n",
      "3/31/20     18\n",
      "3/31/21     18\n",
      "Name: Quarters, dtype: int64\n",
      "0    150\n",
      "1    135\n",
      "Name: Performance, dtype: int64\n",
      "0.00    15\n",
      "1.09     5\n",
      "1.12     5\n",
      "0.79     5\n",
      "0.91     4\n",
      "        ..\n",
      "1.94     1\n",
      "1.35     1\n",
      "1.33     1\n",
      "1.37     1\n",
      "3.79     1\n",
      "Name: Weights, Length: 208, dtype: int64\n",
      "0.02     12\n",
      "0.13      5\n",
      "0.27      5\n",
      "0.21      5\n",
      "0.14      5\n",
      "         ..\n",
      "35.97     1\n",
      "20.45     1\n",
      "15.16     1\n",
      "49.87     1\n",
      "1.44      1\n",
      "Name: Earnings per Share, Length: 181, dtype: int64\n",
      "2.25    5\n",
      "1.04    4\n",
      "0.81    4\n",
      "2.20    4\n",
      "0.46    4\n",
      "       ..\n",
      "2.63    1\n",
      "2.39    1\n",
      "1.48    1\n",
      "1.70    1\n",
      "1.87    1\n",
      "Name: Price to Sales, Length: 197, dtype: int64\n",
      "18.82    3\n",
      "3.26     3\n",
      "9.97     3\n",
      "16.92    3\n",
      "10.74    2\n",
      "        ..\n",
      "21.04    1\n",
      "11.16    1\n",
      "18.81    1\n",
      "20.83    1\n",
      "9.24     1\n",
      "Name: Operating Margins, Length: 261, dtype: int64\n",
      "0.87    5\n",
      "0.61    4\n",
      "1.04    4\n",
      "1.41    4\n",
      "1.33    3\n",
      "       ..\n",
      "2.15    1\n",
      "2.95    1\n",
      "3.05    1\n",
      "2.28    1\n",
      "2.27    1\n",
      "Name: Price to Book, Length: 196, dtype: int64\n",
      "6.21     3\n",
      "22.80    2\n",
      "12.13    2\n",
      "24.42    2\n",
      "17.66    2\n",
      "        ..\n",
      "33.24    1\n",
      "30.07    1\n",
      "29.31    1\n",
      "31.44    1\n",
      "12.82    1\n",
      "Name: ROE, Length: 261, dtype: int64\n",
      "249,854.63    2\n",
      "388,183.27    2\n",
      "490,936.77    2\n",
      "454,979.99    2\n",
      "433,128.85    2\n",
      "             ..\n",
      "248,282.99    1\n",
      "269,229.43    1\n",
      "57,326.00     1\n",
      "67,780.00     1\n",
      "8,228.51      1\n",
      "Name: ROA, Length: 272, dtype: int64\n",
      "-4.03     2\n",
      "-28.33    2\n",
      "-3.05     2\n",
      "-17.78    2\n",
      "-22.74    2\n",
      "         ..\n",
      "-5.74     1\n",
      "-2.7      1\n",
      "-11.81    1\n",
      "-11.01    1\n",
      "3.14      1\n",
      "Name: Dividend Yield, Length: 266, dtype: int64\n",
      "0         5\n",
      "20.89     2\n",
      "1.62      2\n",
      "-23.74    2\n",
      "-94.57    2\n",
      "         ..\n",
      "38.22     1\n",
      "21.98     1\n",
      "173.41    1\n",
      "-15.29    1\n",
      "56.01     1\n",
      "Name: EPS Growth, Length: 263, dtype: int64\n",
      "11.36    3\n",
      "6.03     3\n",
      "7.08     2\n",
      "6.79     2\n",
      "10.78    2\n",
      "        ..\n",
      "11.69    1\n",
      "6.60     1\n",
      "6.77     1\n",
      "7.79     1\n",
      "5.29     1\n",
      "Name: Earnings Yield, Length: 257, dtype: int64\n",
      "8.84     3\n",
      "11.15    2\n",
      "22.49    2\n",
      "20.58    2\n",
      "4.84     2\n",
      "        ..\n",
      "15.01    1\n",
      "9.63     1\n",
      "11.17    1\n",
      "11.11    1\n",
      "21.68    1\n",
      "Name: PE, Length: 258, dtype: int64\n",
      "82.27    2\n",
      "41.97    2\n",
      "88.39    2\n",
      "92.47    2\n",
      "85.28    2\n",
      "        ..\n",
      "59.23    1\n",
      "49.96    1\n",
      "68.31    1\n",
      "67.40    1\n",
      "20.73    1\n",
      "Name: Debt to Equity, Length: 267, dtype: int64\n",
      "0.64      3\n",
      "0.65      3\n",
      "4.15      3\n",
      "381.60    2\n",
      "559.63    2\n",
      "         ..\n",
      "893.06    1\n",
      "895.68    1\n",
      "898.93    1\n",
      "899.88    1\n",
      "50.56     1\n",
      "Name: Book Value Per Share, Length: 260, dtype: int64\n",
      "4.07     3\n",
      "2.42     3\n",
      "4.78     3\n",
      "2.15     3\n",
      "2.32     2\n",
      "        ..\n",
      "12.37    1\n",
      "10.26    1\n",
      "8.38     1\n",
      "10.21    1\n",
      "0.42     1\n",
      "Name: Net Debt to EBITDA, Length: 239, dtype: int64\n",
      "1.28    7\n",
      "1.50    6\n",
      "1.73    5\n",
      "1.51    5\n",
      "1.46    5\n",
      "       ..\n",
      "2.69    1\n",
      "2.73    1\n",
      "2.53    1\n",
      "2.46    1\n",
      "1.62    1\n",
      "Name: Current Ratio, Length: 161, dtype: int64\n",
      "4.10     3\n",
      "5.36     3\n",
      "14.37    2\n",
      "11.10    2\n",
      "4.63     2\n",
      "        ..\n",
      "14.50    1\n",
      "7.10     1\n",
      "1.56     1\n",
      "9.97     1\n",
      "8.56     1\n",
      "Name: Profit Margin, Length: 257, dtype: int64\n",
      "33.29    5\n",
      "34.19    3\n",
      "29.51    2\n",
      "32.87    2\n",
      "32.45    2\n",
      "        ..\n",
      "52.33    1\n",
      "53.81    1\n",
      "31.34    1\n",
      "28.47    1\n",
      "14.07    1\n",
      "Name: Total Debt to Total Asset, Length: 261, dtype: int64\n",
      "5.08     4\n",
      "8.74     3\n",
      "8.08     3\n",
      "5.83     3\n",
      "6.44     3\n",
      "        ..\n",
      "8.62     1\n",
      "9.33     1\n",
      "4.77     1\n",
      "6.11     1\n",
      "18.26    1\n",
      "Name: Return on Capital, Length: 232, dtype: int64\n",
      " 0.06    8\n",
      " 0.04    7\n",
      " 0.07    4\n",
      " 0.11    4\n",
      "-0.01    4\n",
      "        ..\n",
      "-2.31    1\n",
      "-1.11    1\n",
      "-1.01    1\n",
      "-0.55    1\n",
      " 1.11    1\n",
      "Name: FCF to Basic Share, Length: 207, dtype: int64\n",
      "-0.27      3\n",
      " 358.48    2\n",
      " 495.05    2\n",
      " 491.29    2\n",
      " 506.38    2\n",
      "          ..\n",
      " 764.65    1\n",
      " 768.42    1\n",
      " 784.63    1\n",
      " 810.66    1\n",
      " 39.63     1\n",
      "Name: Tangible Book value per Share, Length: 265, dtype: int64\n"
     ]
    }
   ],
   "source": [
    "for col in df_training.columns:\n",
    "    print(df_training[col].value_counts())   "
   ]
  },
  {
   "cell_type": "markdown",
   "metadata": {},
   "source": [
    "We can see that the all variables are categorical in nature. So, we will treat them as categorical variables."
   ]
  },
  {
   "cell_type": "markdown",
   "metadata": {},
   "source": [
    "### Summary of variables\n",
    "\n",
    "\n",
    "- There are 23 variables in the dataset, 22 are independent variables and 1 is the dependent or target variable. All the variables are of categorical data type.\n",
    "\n",
    "- `Performance` is the target variable."
   ]
  },
  {
   "cell_type": "markdown",
   "metadata": {},
   "source": [
    "### Explore `class` variable"
   ]
  },
  {
   "cell_type": "code",
   "execution_count": 42,
   "metadata": {},
   "outputs": [
    {
     "data": {
      "text/plain": [
       "0    23\n",
       "1    18\n",
       "Name: Performance, dtype: int64"
      ]
     },
     "execution_count": 42,
     "metadata": {},
     "output_type": "execute_result"
    }
   ],
   "source": [
    "df_testing['Performance'].value_counts()"
   ]
  },
  {
   "cell_type": "markdown",
   "metadata": {},
   "source": [
    "### Missing values in variables"
   ]
  },
  {
   "cell_type": "code",
   "execution_count": 55,
   "metadata": {},
   "outputs": [
    {
     "data": {
      "text/plain": [
       "Earnings per Share               0\n",
       "Price to Sales                   0\n",
       "Operating Margins                0\n",
       "Price to Book                    0\n",
       "ROE                              0\n",
       "ROA                              0\n",
       "Dividend Yield                   0\n",
       "EPS Growth                       0\n",
       "Earnings Yield                   0\n",
       "PE                               0\n",
       "Debt to Equity                   0\n",
       "Book Value Per Share             0\n",
       "Net Debt to EBITDA               0\n",
       "Current Ratio                    0\n",
       "Profit Margin                    0\n",
       "Total Debt to Total Asset        0\n",
       "Return on Capital                0\n",
       "FCF to Basic Share               0\n",
       "Tangible Book value per Share    0\n",
       "dtype: int64"
      ]
     },
     "execution_count": 55,
     "metadata": {},
     "output_type": "execute_result"
    }
   ],
   "source": [
    "# check missing values in variables\n",
    "\n",
    "X_training.isnull().sum()"
   ]
  },
  {
   "cell_type": "markdown",
   "metadata": {},
   "source": [
    "We can see that there are no missing values in the dataset. I have checked the frequency distribution of values previously. It also confirms that there are no missing values in the dataset."
   ]
  },
  {
   "cell_type": "markdown",
   "metadata": {},
   "source": [
    "## Feature Engineering\n",
    "\n",
    "\n",
    "**Feature Engineering** is the process of transforming raw data into useful features that help us to understand our model better and increase its predictive power. I will carry out feature engineering on different types of variables.\n",
    "\n",
    "\n",
    "First, I will check the data types of variables again."
   ]
  },
  {
   "cell_type": "code",
   "execution_count": 56,
   "metadata": {},
   "outputs": [
    {
     "data": {
      "text/plain": [
       "Earnings per Share               float64\n",
       "Price to Sales                   float64\n",
       "Operating Margins                float64\n",
       "Price to Book                    float64\n",
       "ROE                              float64\n",
       "ROA                              float64\n",
       "Dividend Yield                   float64\n",
       "EPS Growth                       float64\n",
       "Earnings Yield                   float64\n",
       "PE                               float64\n",
       "Debt to Equity                   float64\n",
       "Book Value Per Share             float64\n",
       "Net Debt to EBITDA               float64\n",
       "Current Ratio                    float64\n",
       "Profit Margin                    float64\n",
       "Total Debt to Total Asset        float64\n",
       "Return on Capital                float64\n",
       "FCF to Basic Share               float64\n",
       "Tangible Book value per Share    float64\n",
       "dtype: object"
      ]
     },
     "execution_count": 56,
     "metadata": {},
     "output_type": "execute_result"
    }
   ],
   "source": [
    "# check data types in X_train\n",
    "\n",
    "X_training.dtypes"
   ]
  },
  {
   "cell_type": "markdown",
   "metadata": {},
   "source": [
    "### Encode categorical variables\n",
    "\n",
    "\n",
    "Now, I will encode the categorical variables."
   ]
  },
  {
   "cell_type": "code",
   "execution_count": 57,
   "metadata": {},
   "outputs": [
    {
     "data": {
      "text/html": [
       "<div>\n",
       "<style scoped>\n",
       "    .dataframe tbody tr th:only-of-type {\n",
       "        vertical-align: middle;\n",
       "    }\n",
       "\n",
       "    .dataframe tbody tr th {\n",
       "        vertical-align: top;\n",
       "    }\n",
       "\n",
       "    .dataframe thead th {\n",
       "        text-align: right;\n",
       "    }\n",
       "</style>\n",
       "<table border=\"1\" class=\"dataframe\">\n",
       "  <thead>\n",
       "    <tr style=\"text-align: right;\">\n",
       "      <th></th>\n",
       "      <th>Earnings per Share</th>\n",
       "      <th>Price to Sales</th>\n",
       "      <th>Operating Margins</th>\n",
       "      <th>Price to Book</th>\n",
       "      <th>ROE</th>\n",
       "      <th>ROA</th>\n",
       "      <th>Dividend Yield</th>\n",
       "      <th>EPS Growth</th>\n",
       "      <th>Earnings Yield</th>\n",
       "      <th>PE</th>\n",
       "      <th>Debt to Equity</th>\n",
       "      <th>Book Value Per Share</th>\n",
       "      <th>Net Debt to EBITDA</th>\n",
       "      <th>Current Ratio</th>\n",
       "      <th>Profit Margin</th>\n",
       "      <th>Total Debt to Total Asset</th>\n",
       "      <th>Return on Capital</th>\n",
       "      <th>FCF to Basic Share</th>\n",
       "      <th>Tangible Book value per Share</th>\n",
       "    </tr>\n",
       "  </thead>\n",
       "  <tbody>\n",
       "    <tr>\n",
       "      <th>0</th>\n",
       "      <td>0.83</td>\n",
       "      <td>3.41</td>\n",
       "      <td>22.74</td>\n",
       "      <td>3.01</td>\n",
       "      <td>22.80</td>\n",
       "      <td>192167.95</td>\n",
       "      <td>-11.06</td>\n",
       "      <td>-8.69</td>\n",
       "      <td>7.08</td>\n",
       "      <td>18.91</td>\n",
       "      <td>149.50</td>\n",
       "      <td>24.72</td>\n",
       "      <td>5.21</td>\n",
       "      <td>2.08</td>\n",
       "      <td>13.82</td>\n",
       "      <td>54.61</td>\n",
       "      <td>9.77</td>\n",
       "      <td>0.45</td>\n",
       "      <td>17.38</td>\n",
       "    </tr>\n",
       "    <tr>\n",
       "      <th>1</th>\n",
       "      <td>0.99</td>\n",
       "      <td>3.27</td>\n",
       "      <td>22.10</td>\n",
       "      <td>2.95</td>\n",
       "      <td>22.80</td>\n",
       "      <td>197944.10</td>\n",
       "      <td>-10.09</td>\n",
       "      <td>1.22</td>\n",
       "      <td>7.30</td>\n",
       "      <td>19.28</td>\n",
       "      <td>144.31</td>\n",
       "      <td>25.85</td>\n",
       "      <td>5.07</td>\n",
       "      <td>2.21</td>\n",
       "      <td>14.77</td>\n",
       "      <td>54.70</td>\n",
       "      <td>9.90</td>\n",
       "      <td>0.96</td>\n",
       "      <td>18.51</td>\n",
       "    </tr>\n",
       "    <tr>\n",
       "      <th>10</th>\n",
       "      <td>1.20</td>\n",
       "      <td>1.46</td>\n",
       "      <td>18.82</td>\n",
       "      <td>1.75</td>\n",
       "      <td>20.31</td>\n",
       "      <td>267448.69</td>\n",
       "      <td>-6.14</td>\n",
       "      <td>-6.31</td>\n",
       "      <td>11.62</td>\n",
       "      <td>14.48</td>\n",
       "      <td>146.87</td>\n",
       "      <td>30.33</td>\n",
       "      <td>5.83</td>\n",
       "      <td>1.19</td>\n",
       "      <td>13.58</td>\n",
       "      <td>53.60</td>\n",
       "      <td>8.52</td>\n",
       "      <td>1.04</td>\n",
       "      <td>19.28</td>\n",
       "    </tr>\n",
       "    <tr>\n",
       "      <th>12</th>\n",
       "      <td>0.36</td>\n",
       "      <td>1.07</td>\n",
       "      <td>14.40</td>\n",
       "      <td>1.25</td>\n",
       "      <td>19.07</td>\n",
       "      <td>263666.67</td>\n",
       "      <td>-12.83</td>\n",
       "      <td>-42.49</td>\n",
       "      <td>15.30</td>\n",
       "      <td>10.34</td>\n",
       "      <td>161.44</td>\n",
       "      <td>30.28</td>\n",
       "      <td>5.92</td>\n",
       "      <td>1.30</td>\n",
       "      <td>4.45</td>\n",
       "      <td>54.76</td>\n",
       "      <td>8.06</td>\n",
       "      <td>1.65</td>\n",
       "      <td>18.25</td>\n",
       "    </tr>\n",
       "    <tr>\n",
       "      <th>13</th>\n",
       "      <td>0.36</td>\n",
       "      <td>1.35</td>\n",
       "      <td>13.23</td>\n",
       "      <td>1.49</td>\n",
       "      <td>17.81</td>\n",
       "      <td>268457.72</td>\n",
       "      <td>-3.71</td>\n",
       "      <td>-62.93</td>\n",
       "      <td>11.70</td>\n",
       "      <td>14.97</td>\n",
       "      <td>161.40</td>\n",
       "      <td>30.49</td>\n",
       "      <td>6.35</td>\n",
       "      <td>1.32</td>\n",
       "      <td>4.37</td>\n",
       "      <td>55.02</td>\n",
       "      <td>6.99</td>\n",
       "      <td>0.85</td>\n",
       "      <td>18.45</td>\n",
       "    </tr>\n",
       "  </tbody>\n",
       "</table>\n",
       "</div>"
      ],
      "text/plain": [
       "    Earnings per Share  Price to Sales  Operating Margins  Price to Book  \\\n",
       "0                 0.83            3.41              22.74           3.01   \n",
       "1                 0.99            3.27              22.10           2.95   \n",
       "10                1.20            1.46              18.82           1.75   \n",
       "12                0.36            1.07              14.40           1.25   \n",
       "13                0.36            1.35              13.23           1.49   \n",
       "\n",
       "      ROE        ROA  Dividend Yield  EPS Growth  Earnings Yield     PE  \\\n",
       "0   22.80  192167.95          -11.06       -8.69            7.08  18.91   \n",
       "1   22.80  197944.10          -10.09        1.22            7.30  19.28   \n",
       "10  20.31  267448.69           -6.14       -6.31           11.62  14.48   \n",
       "12  19.07  263666.67          -12.83      -42.49           15.30  10.34   \n",
       "13  17.81  268457.72           -3.71      -62.93           11.70  14.97   \n",
       "\n",
       "    Debt to Equity  Book Value Per Share  Net Debt to EBITDA  Current Ratio  \\\n",
       "0           149.50                 24.72                5.21           2.08   \n",
       "1           144.31                 25.85                5.07           2.21   \n",
       "10          146.87                 30.33                5.83           1.19   \n",
       "12          161.44                 30.28                5.92           1.30   \n",
       "13          161.40                 30.49                6.35           1.32   \n",
       "\n",
       "    Profit Margin  Total Debt to Total Asset  Return on Capital  \\\n",
       "0           13.82                      54.61               9.77   \n",
       "1           14.77                      54.70               9.90   \n",
       "10          13.58                      53.60               8.52   \n",
       "12           4.45                      54.76               8.06   \n",
       "13           4.37                      55.02               6.99   \n",
       "\n",
       "    FCF to Basic Share  Tangible Book value per Share  \n",
       "0                 0.45                          17.38  \n",
       "1                 0.96                          18.51  \n",
       "10                1.04                          19.28  \n",
       "12                1.65                          18.25  \n",
       "13                0.85                          18.45  "
      ]
     },
     "execution_count": 57,
     "metadata": {},
     "output_type": "execute_result"
    }
   ],
   "source": [
    "X_training.head()"
   ]
  },
  {
   "cell_type": "markdown",
   "metadata": {},
   "source": [
    "We can see that all  the variables are numerical data type."
   ]
  },
  {
   "cell_type": "markdown",
   "metadata": {},
   "source": [
    "We now have training and test set ready for model building. "
   ]
  },
  {
   "cell_type": "markdown",
   "metadata": {},
   "source": [
    "## Random Forest Classifier model with default parameters"
   ]
  },
  {
   "cell_type": "code",
   "execution_count": 60,
   "metadata": {},
   "outputs": [
    {
     "name": "stdout",
     "output_type": "stream",
     "text": [
      "Model accuracy score with 10 decision-trees : 0.4390\n"
     ]
    }
   ],
   "source": [
    "# import Random Forest classifier\n",
    "\n",
    "from sklearn.ensemble import RandomForestClassifier\n",
    "\n",
    "# instantiate the classifier \n",
    "\n",
    "rfc = RandomForestClassifier(random_state=0)\n",
    "\n",
    "# fit the model\n",
    "\n",
    "rfc.fit(X_training, y_training)\n",
    "\n",
    "# Predict the Test set results\n",
    "\n",
    "y_pred = rfc.predict(X_test)\n",
    "\n",
    "# Check accuracy score \n",
    "\n",
    "from sklearn.metrics import accuracy_score\n",
    "\n",
    "print('Model accuracy score with 10 decision-trees : {0:0.4f}'. format(accuracy_score(y_test, y_pred)))"
   ]
  },
  {
   "cell_type": "markdown",
   "metadata": {},
   "source": [
    "Here, **y_test** are the true class labels and **y_pred** are the predicted class labels in the test-set."
   ]
  },
  {
   "cell_type": "markdown",
   "metadata": {},
   "source": [
    "Here, I have build the Random Forest Classifier model with default parameter of `n_estimators = 10`. So, I have used 10 decision-trees to build the model. Now, I will increase the number of decision-trees and see its effect on accuracy."
   ]
  },
  {
   "cell_type": "markdown",
   "metadata": {},
   "source": [
    "## 13. Random Forest Classifier model with parameter n_estimators=1000."
   ]
  },
  {
   "cell_type": "code",
   "execution_count": 63,
   "metadata": {},
   "outputs": [
    {
     "name": "stdout",
     "output_type": "stream",
     "text": [
      "Model accuracy score with 1000 decision-trees : 0.4878\n"
     ]
    }
   ],
   "source": [
    "# instantiate the classifier with n_estimators = 1000\n",
    "\n",
    "rfc_1000 = RandomForestClassifier(n_estimators=1000, random_state=0)\n",
    "\n",
    "# fit the model to the training set\n",
    "\n",
    "rfc_1000.fit(X_training, y_training)\n",
    "\n",
    "# Predict on the test set results\n",
    "\n",
    "y_pred_1000 = rfc_1000.predict(X_test)\n",
    "\n",
    "# Check accuracy score \n",
    "\n",
    "print('Model accuracy score with 1000 decision-trees : {0:0.4f}'. format(accuracy_score(y_test, y_pred_1000)))"
   ]
  },
  {
   "cell_type": "markdown",
   "metadata": {},
   "source": [
    "The model accuracy score with 10 decision-trees is 0.4390 but the same with 1000 decision-trees is 0.4878. So, as expected accuracy decreases with number of decision-trees in the model."
   ]
  },
  {
   "cell_type": "markdown",
   "metadata": {},
   "source": [
    "## 14. Find important features with Random Forest model\n",
    "\n",
    "\n",
    "Until now, I have used all the features given in the model. Now, I will select only the important features, build the model using these features and see its effect on accuracy. \n",
    "\n",
    "\n",
    "First, I will create the Random Forest model as follows:-"
   ]
  },
  {
   "cell_type": "code",
   "execution_count": 65,
   "metadata": {},
   "outputs": [
    {
     "data": {
      "text/plain": [
       "RandomForestClassifier(random_state=0)"
      ]
     },
     "execution_count": 65,
     "metadata": {},
     "output_type": "execute_result"
    }
   ],
   "source": [
    "# create the classifier with n_estimators = 100\n",
    "\n",
    "clf = RandomForestClassifier(n_estimators=100, random_state=0)\n",
    "\n",
    "# fit the model to the training set\n",
    "\n",
    "clf.fit(X_training, y_training)"
   ]
  },
  {
   "cell_type": "markdown",
   "metadata": {},
   "source": [
    "Now, I will use the feature importance variable to see feature importance scores."
   ]
  },
  {
   "cell_type": "code",
   "execution_count": 66,
   "metadata": {
    "scrolled": true
   },
   "outputs": [
    {
     "data": {
      "text/plain": [
       "EPS Growth                       0.073364\n",
       "FCF to Basic Share               0.067812\n",
       "Current Ratio                    0.066770\n",
       "Dividend Yield                   0.058692\n",
       "ROE                              0.058344\n",
       "Earnings Yield                   0.056403\n",
       "Profit Margin                    0.054274\n",
       "Return on Capital                0.053079\n",
       "Operating Margins                0.052533\n",
       "ROA                              0.049043\n",
       "PE                               0.048963\n",
       "Price to Sales                   0.048806\n",
       "Debt to Equity                   0.047966\n",
       "Total Debt to Total Asset        0.045466\n",
       "Price to Book                    0.045343\n",
       "Net Debt to EBITDA               0.044699\n",
       "Earnings per Share               0.044694\n",
       "Tangible Book value per Share    0.042870\n",
       "Book Value Per Share             0.040879\n",
       "dtype: float64"
      ]
     },
     "execution_count": 66,
     "metadata": {},
     "output_type": "execute_result"
    }
   ],
   "source": [
    "# view the feature scores\n",
    "\n",
    "feature_scores = pd.Series(clf.feature_importances_, index=X_training.columns).sort_values(ascending=False)\n",
    "\n",
    "feature_scores"
   ]
  },
  {
   "cell_type": "markdown",
   "metadata": {},
   "source": [
    "The higher the score, the more important the feature is."
   ]
  },
  {
   "cell_type": "markdown",
   "metadata": {},
   "source": [
    "## 15. Visualize the feature scores of the features\n",
    "\n",
    "\n",
    "Now, I will visualize the feature scores with matplotlib and seaborn."
   ]
  },
  {
   "cell_type": "code",
   "execution_count": 67,
   "metadata": {},
   "outputs": [
    {
     "data": {
      "image/png": "[encoded data removed]",
      "text/plain": [
       "<Figure size 432x288 with 1 Axes>"
      ]
     },
     "metadata": {
      "needs_background": "light"
     },
     "output_type": "display_data"
    }
   ],
   "source": [
    "# Creating a seaborn bar plot\n",
    "\n",
    "sns.barplot(x=feature_scores, y=feature_scores.index)\n",
    "\n",
    "# Add labels to the graph\n",
    "\n",
    "plt.xlabel('Feature Importance Score')\n",
    "\n",
    "plt.ylabel('Features')\n",
    "\n",
    "# Add title to the graph\n",
    "\n",
    "plt.title(\"Visualizing Important Features\")\n",
    "\n",
    "# Visualize the graph\n",
    "\n",
    "plt.show()"
   ]
  },
  {
   "cell_type": "markdown",
   "metadata": {},
   "source": [
    "## 17. Build the Random Forest model on selected features"
   ]
  },
  {
   "cell_type": "code",
   "execution_count": 82,
   "metadata": {},
   "outputs": [],
   "source": [
    "# declare feature vector and target variable\n",
    "\n",
    "X_training_new= X_training.drop(['ROA','PE','Price to Sales','Debt to Equity','Total Debt to Total Asset',\n",
    "                 'Price to Book','Net Debt to EBITDA','Earnings per Share','Book Value Per Share',\n",
    "                 'Tangible Book value per Share'],axis=1)\n",
    "\n",
    "X_test_new=X_test.drop(['ROA','PE','Price to Sales','Debt to Equity','Total Debt to Total Asset',\n",
    "                 'Price to Book','Net Debt to EBITDA','Earnings per Share','Book Value Per Share',\n",
    "                 'Tangible Book value per Share'],axis=1)"
   ]
  },
  {
   "cell_type": "markdown",
   "metadata": {},
   "source": [
    "Now, I will build the random forest model and check accuracy."
   ]
  },
  {
   "cell_type": "code",
   "execution_count": 87,
   "metadata": {},
   "outputs": [
    {
     "name": "stdout",
     "output_type": "stream",
     "text": [
      "Model accuracy score with some variables removed : 0.5610\n"
     ]
    }
   ],
   "source": [
    "# instantiate the classifier with n_estimators = 100\n",
    "\n",
    "clf = RandomForestClassifier(random_state=0)\n",
    "\n",
    "# fit the model to the training set\n",
    "\n",
    "clf.fit(X_training_new, y_training)\n",
    "\n",
    "# Predict on the test set results\n",
    "\n",
    "y_pred = clf.predict(X_test_new)\n",
    "\n",
    "# Check accuracy score \n",
    "\n",
    "print('Model accuracy score with some variables removed : {0:0.4f}'. format(accuracy_score(y_test, y_pred)))\n"
   ]
  },
  {
   "cell_type": "markdown",
   "metadata": {},
   "source": [
    "## 18. Confusion matrix\n",
    "\n",
    "\n",
    "A confusion matrix is a tool for summarizing the performance of a classification algorithm. A confusion matrix will give us a clear picture of classification model performance and the types of errors produced by the model. It gives us a summary of correct and incorrect predictions broken down by each category. The summary is represented in a tabular form.\n",
    "\n",
    "\n",
    "Four types of outcomes are possible while evaluating a classification model performance. These four outcomes are described below:-\n",
    "\n",
    "\n",
    "**True Positives (TP)** – True Positives occur when we predict an observation belongs to a certain class and the observation actually belongs to that class.\n",
    "\n",
    "\n",
    "**True Negatives (TN)** – True Negatives occur when we predict an observation does not belong to a certain class and the observation actually does not belong to that class.\n",
    "\n",
    "\n",
    "**False Positives (FP)** – False Positives occur when we predict an observation belongs to a    certain class but the observation actually does not belong to that class. This type of error is called **Type I error.**\n",
    "\n",
    "\n",
    "\n",
    "**False Negatives (FN)** – False Negatives occur when we predict an observation does not belong to a certain class but the observation actually belongs to that class. This is a very serious error and it is called **Type II error.**\n",
    "\n",
    "\n",
    "\n",
    "These four outcomes are summarized in a confusion matrix given below.\n"
   ]
  },
  {
   "cell_type": "code",
   "execution_count": 88,
   "metadata": {},
   "outputs": [
    {
     "name": "stdout",
     "output_type": "stream",
     "text": [
      "Confusion matrix\n",
      "\n",
      "\n"
     ]
    },
    {
     "data": {
      "text/html": [
       "<div>\n",
       "<style scoped>\n",
       "    .dataframe tbody tr th:only-of-type {\n",
       "        vertical-align: middle;\n",
       "    }\n",
       "\n",
       "    .dataframe tbody tr th {\n",
       "        vertical-align: top;\n",
       "    }\n",
       "\n",
       "    .dataframe thead th {\n",
       "        text-align: right;\n",
       "    }\n",
       "</style>\n",
       "<table border=\"1\" class=\"dataframe\">\n",
       "  <thead>\n",
       "    <tr style=\"text-align: right;\">\n",
       "      <th></th>\n",
       "      <th>0</th>\n",
       "      <th>1</th>\n",
       "    </tr>\n",
       "  </thead>\n",
       "  <tbody>\n",
       "    <tr>\n",
       "      <th>0</th>\n",
       "      <td>13</td>\n",
       "      <td>10</td>\n",
       "    </tr>\n",
       "    <tr>\n",
       "      <th>1</th>\n",
       "      <td>8</td>\n",
       "      <td>10</td>\n",
       "    </tr>\n",
       "  </tbody>\n",
       "</table>\n",
       "</div>"
      ],
      "text/plain": [
       "    0   1\n",
       "0  13  10\n",
       "1   8  10"
      ]
     },
     "execution_count": 88,
     "metadata": {},
     "output_type": "execute_result"
    }
   ],
   "source": [
    "# Print the Confusion Matrix and slice it into four pieces\n",
    "\n",
    "from sklearn.metrics import confusion_matrix\n",
    "\n",
    "cm = confusion_matrix(y_test, y_pred)\n",
    "\n",
    "print('Confusion matrix\\n\\n')\n",
    "\n",
    "pd.DataFrame(cm)"
   ]
  },
  {
   "cell_type": "markdown",
   "metadata": {},
   "source": [
    "## 19. Classification Report\n",
    "\n",
    "\n",
    "**Classification report** is another way to evaluate the classification model performance. It displays the  **precision**, **recall**, **f1** and **support** scores for the model. I have described these terms in later.\n",
    "\n",
    "We can print a classification report as follows:-"
   ]
  },
  {
   "cell_type": "code",
   "execution_count": 89,
   "metadata": {},
   "outputs": [
    {
     "name": "stdout",
     "output_type": "stream",
     "text": [
      "              precision    recall  f1-score   support\n",
      "\n",
      "           0       0.62      0.57      0.59        23\n",
      "           1       0.50      0.56      0.53        18\n",
      "\n",
      "    accuracy                           0.56        41\n",
      "   macro avg       0.56      0.56      0.56        41\n",
      "weighted avg       0.57      0.56      0.56        41\n",
      "\n"
     ]
    }
   ],
   "source": [
    "from sklearn.metrics import classification_report\n",
    "\n",
    "print(classification_report(y_test, y_pred))"
   ]
  },
  {
   "cell_type": "code",
   "execution_count": 99,
   "metadata": {},
   "outputs": [
    {
     "name": "stdout",
     "output_type": "stream",
     "text": [
      "              precision    recall  f1-score   support\n",
      "\n",
      "           0       0.97      0.99      0.98       150\n",
      "           1       0.98      0.96      0.97       135\n",
      "\n",
      "    accuracy                           0.98       285\n",
      "   macro avg       0.98      0.97      0.98       285\n",
      "weighted avg       0.98      0.98      0.98       285\n",
      "\n"
     ]
    }
   ],
   "source": [
    "y_pred2 = clf.predict(X_training_new)\n",
    "\n",
    "print(classification_report(y_training, y_pred2))"
   ]
  },
  {
   "cell_type": "code",
   "execution_count": 101,
   "metadata": {},
   "outputs": [
    {
     "data": {
      "text/html": [
       "<div>\n",
       "<style scoped>\n",
       "    .dataframe tbody tr th:only-of-type {\n",
       "        vertical-align: middle;\n",
       "    }\n",
       "\n",
       "    .dataframe tbody tr th {\n",
       "        vertical-align: top;\n",
       "    }\n",
       "\n",
       "    .dataframe thead th {\n",
       "        text-align: right;\n",
       "    }\n",
       "</style>\n",
       "<table border=\"1\" class=\"dataframe\">\n",
       "  <thead>\n",
       "    <tr style=\"text-align: right;\">\n",
       "      <th></th>\n",
       "      <th>0</th>\n",
       "      <th>1</th>\n",
       "    </tr>\n",
       "  </thead>\n",
       "  <tbody>\n",
       "    <tr>\n",
       "      <th>0</th>\n",
       "      <td>148</td>\n",
       "      <td>2</td>\n",
       "    </tr>\n",
       "    <tr>\n",
       "      <th>1</th>\n",
       "      <td>5</td>\n",
       "      <td>130</td>\n",
       "    </tr>\n",
       "  </tbody>\n",
       "</table>\n",
       "</div>"
      ],
      "text/plain": [
       "     0    1\n",
       "0  148    2\n",
       "1    5  130"
      ]
     },
     "execution_count": 101,
     "metadata": {},
     "output_type": "execute_result"
    }
   ],
   "source": [
    "pd.DataFrame(confusion_matrix(y_training, y_pred2))"
   ]
  },
  {
   "cell_type": "code",
   "execution_count": null,
   "metadata": {},
   "outputs": [],
   "source": []
  }
 ],
 "metadata": {
  "kernelspec": {
   "display_name": "Python 3 (ipykernel)",
   "language": "python",
   "name": "python3"
  },
  "language_info": {
   "codemirror_mode": {
    "name": "ipython",
    "version": 3
   },
   "file_extension": ".py",
   "mimetype": "text/x-python",
   "name": "python",
   "nbconvert_exporter": "python",
   "pygments_lexer": "ipython3",
   "version": "3.9.12"
  }
 },
 "nbformat": 4,
 "nbformat_minor": 4
}
