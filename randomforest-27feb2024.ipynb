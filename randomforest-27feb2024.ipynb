{
 "cells": [
  {
   "cell_type": "markdown",
   "metadata": {},
   "source": [
    "# PSEI Stock Performance: A Random Forest Classification Method"
   ]
  },
  {
   "cell_type": "markdown",
   "metadata": {},
   "source": [
    "## 1. Introduction to Random Forest algorithm\n",
    "\n",
    "\n",
    "\n",
    "Random forest is a supervised learning algorithm. It has two variations – one is used for classification problems and other is used for regression problems. It is one of the most flexible and easy to use algorithm. It creates decision trees on the given data samples, gets prediction from each tree and selects the best solution by means of voting. It is also a pretty good indicator of feature importance.\n",
    "\n",
    "\n",
    "Random forest algorithm combines multiple decision-trees, resulting in a forest of trees, hence the name `Random Forest`. In the random forest classifier, the higher the number of trees in the forest results in higher accuracy.\n",
    "\n"
   ]
  },
  {
   "cell_type": "markdown",
   "metadata": {},
   "source": [
    "## 2. Random Forest algorithm intuition\n",
    "\n",
    "\n",
    "Random forest algorithm intuition can be divided into two stages. \n",
    "\n",
    "\n",
    "In the first stage, we randomly select “k” features out of total `m` features and build the random forest. In the first stage, we proceed as follows:-\n",
    "\n",
    "1.\tRandomly select `k` features from a total of `m` features where `k < m`.\n",
    "2.\tAmong the `k` features, calculate the node `d` using the best split point.\n",
    "3.\tSplit the node into daughter nodes using the best split.\n",
    "4.\tRepeat 1 to 3 steps until `l` number of nodes has been reached.\n",
    "5.\tBuild forest by repeating steps 1 to 4 for `n` number of times to create `n` number of trees.\n",
    "\n",
    "\n",
    "In the second stage, we make predictions using the trained random forest algorithm. \n",
    "\n",
    "1.\tWe take the test features and use the rules of each randomly created decision tree to predict the outcome and stores the predicted outcome.\n",
    "2.\tThen, we calculate the votes for each predicted target.\n",
    "3.\tFinally, we consider the high voted predicted target as the final prediction from the random forest algorithm.\n"
   ]
  },
  {
   "cell_type": "markdown",
   "metadata": {},
   "source": [
    "## 3. Advantages and disadvantages of Random Forest algorithm\n",
    "\n",
    "\n",
    "The advantages of Random forest algorithm are as follows:-\n",
    "\n",
    "\n",
    "1.\tRandom forest algorithm can be used to solve both classification and regression problems.\n",
    "2.\tIt is considered as very accurate and robust model because it uses large number of decision-trees to make predictions.\n",
    "3.\tRandom forests takes the average of all the predictions made by the decision-trees, which cancels out the biases. So, it does not suffer from the overfitting problem. \n",
    "4.\tRandom forest classifier can handle the missing values. There are two ways to handle the missing values. First is to use median values to replace continuous variables and second is to compute the proximity-weighted average of missing values.\n",
    "5.\tRandom forest classifier can be used for feature selection. It means selecting the most important features out of the available features from the training dataset.\n",
    "\n",
    "\n",
    "The disadvantages of Random Forest algorithm are listed below:-\n",
    "\n",
    "\n",
    "1.\tThe biggest disadvantage of random forests is its computational complexity. Random forests is very slow in making predictions because large number of decision-trees are used to make predictions. All the trees in the forest have to make a prediction for the same input and then perform voting on it. So, it is a time-consuming process.\n",
    "2.\tThe model is difficult to interpret as compared to a decision-tree, where we can easily make a prediction as compared to a decision-tree.\n"
   ]
  },
  {
   "cell_type": "markdown",
   "metadata": {},
   "source": [
    "## 4. Feature selection with Random Forests\n",
    "\n",
    "\n",
    "\n",
    "Random forests algorithm can be used for feature selection process. This algorithm can be used to rank the importance of variables in a regression or classification problem. \n",
    "\n",
    "\n",
    "We measure the variable importance in a dataset by fitting the random forest algorithm to the data. During the fitting process, the out-of-bag error for each data point is recorded and averaged over the forest. \n",
    "\n",
    "\n",
    "The importance of the j-th feature was measured after training. The values of the j-th feature were permuted among the training data and the out-of-bag error was again computed on this perturbed dataset. The importance score for the j-th feature is computed by averaging the difference in out-of-bag error before and after the permutation over all trees. The score is normalized by the standard deviation of these differences.\n",
    "\n",
    "\n",
    "Features which produce large values for this score are ranked as more important than features which produce small values. Based on this score, we will choose the most important features and drop the least important ones for model building. \n"
   ]
  },
  {
   "cell_type": "markdown",
   "metadata": {},
   "source": [
    "## 5. Dataset description\n",
    "\n",
    "\n",
    "The dataset used here were ratios extract from **Bloomberg Terminal** of AB Capital."
   ]
  },
  {
   "cell_type": "markdown",
   "metadata": {},
   "source": [
    "## 6. Import libraries"
   ]
  },
  {
   "cell_type": "code",
   "execution_count": 2,
   "metadata": {},
   "outputs": [],
   "source": [
    "import pandas as pd\n",
    "import numpy as np\n",
    "import matplotlib.pyplot as plt\n",
    "import seaborn as sns\n",
    "%matplotlib inline"
   ]
  },
  {
   "cell_type": "code",
   "execution_count": 3,
   "metadata": {},
   "outputs": [],
   "source": [
    "import warnings\n",
    "\n",
    "warnings.filterwarnings('ignore')"
   ]
  },
  {
   "cell_type": "markdown",
   "metadata": {},
   "source": [
    "## 7. Import and cleaning the datasets for training and backtesting"
   ]
  },
  {
   "cell_type": "code",
   "execution_count": 13,
   "metadata": {},
   "outputs": [],
   "source": [
    "df_training = pd.read_csv('Base 4.1 Training.csv')\n",
    "df_testing = pd.read_csv('Base 4.1 Back Test.csv')\n",
    "\n",
    "X_training = df_training.iloc[:,7:]\n",
    "X_test = df_testing.iloc[:,7:]\n",
    "\n",
    "y_training = df_training.iloc[:,3]\n",
    "y_test = df_testing.iloc[:,3]"
   ]
  },
  {
   "cell_type": "markdown",
   "metadata": {},
   "source": [
    "## 8. Exploratory data analysis\n",
    "\n",
    "\n",
    "Now, I will explore the data to gain insights about the data. "
   ]
  },
  {
   "cell_type": "markdown",
   "metadata": {},
   "source": [
    "### View top 5 rows of dataset"
   ]
  },
  {
   "cell_type": "code",
   "execution_count": 5,
   "metadata": {},
   "outputs": [
    {
     "data": {
      "text/html": [
       "<div>\n",
       "<style scoped>\n",
       "    .dataframe tbody tr th:only-of-type {\n",
       "        vertical-align: middle;\n",
       "    }\n",
       "\n",
       "    .dataframe tbody tr th {\n",
       "        vertical-align: top;\n",
       "    }\n",
       "\n",
       "    .dataframe thead th {\n",
       "        text-align: right;\n",
       "    }\n",
       "</style>\n",
       "<table border=\"1\" class=\"dataframe\">\n",
       "  <thead>\n",
       "    <tr style=\"text-align: right;\">\n",
       "      <th></th>\n",
       "      <th>Operating Margins</th>\n",
       "      <th>ROE</th>\n",
       "      <th>ROA</th>\n",
       "      <th>Dividend Yield</th>\n",
       "      <th>Earnings Yield</th>\n",
       "      <th>Debt to Equity</th>\n",
       "      <th>Book Value Per Share</th>\n",
       "      <th>Profit Margin</th>\n",
       "      <th>Total Debt to Total Asset</th>\n",
       "    </tr>\n",
       "  </thead>\n",
       "  <tbody>\n",
       "    <tr>\n",
       "      <th>0</th>\n",
       "      <td>22.74</td>\n",
       "      <td>22.80</td>\n",
       "      <td>192167.95</td>\n",
       "      <td>-11.06</td>\n",
       "      <td>7.08</td>\n",
       "      <td>149.50</td>\n",
       "      <td>24.72</td>\n",
       "      <td>13.82</td>\n",
       "      <td>54.61</td>\n",
       "    </tr>\n",
       "    <tr>\n",
       "      <th>1</th>\n",
       "      <td>22.10</td>\n",
       "      <td>22.80</td>\n",
       "      <td>197944.10</td>\n",
       "      <td>-10.09</td>\n",
       "      <td>7.30</td>\n",
       "      <td>144.31</td>\n",
       "      <td>25.85</td>\n",
       "      <td>14.77</td>\n",
       "      <td>54.70</td>\n",
       "    </tr>\n",
       "    <tr>\n",
       "      <th>2</th>\n",
       "      <td>26.53</td>\n",
       "      <td>23.18</td>\n",
       "      <td>199074.98</td>\n",
       "      <td>0.00</td>\n",
       "      <td>0.00</td>\n",
       "      <td>145.20</td>\n",
       "      <td>27.02</td>\n",
       "      <td>14.17</td>\n",
       "      <td>54.94</td>\n",
       "    </tr>\n",
       "    <tr>\n",
       "      <th>3</th>\n",
       "      <td>25.58</td>\n",
       "      <td>24.83</td>\n",
       "      <td>197143.23</td>\n",
       "      <td>0.00</td>\n",
       "      <td>0.00</td>\n",
       "      <td>136.27</td>\n",
       "      <td>27.46</td>\n",
       "      <td>14.65</td>\n",
       "      <td>53.26</td>\n",
       "    </tr>\n",
       "    <tr>\n",
       "      <th>4</th>\n",
       "      <td>22.63</td>\n",
       "      <td>25.47</td>\n",
       "      <td>199531.00</td>\n",
       "      <td>0.00</td>\n",
       "      <td>0.00</td>\n",
       "      <td>143.35</td>\n",
       "      <td>27.25</td>\n",
       "      <td>12.98</td>\n",
       "      <td>53.65</td>\n",
       "    </tr>\n",
       "  </tbody>\n",
       "</table>\n",
       "</div>"
      ],
      "text/plain": [
       "   Operating Margins    ROE        ROA  Dividend Yield  Earnings Yield  \\\n",
       "0              22.74  22.80  192167.95          -11.06            7.08   \n",
       "1              22.10  22.80  197944.10          -10.09            7.30   \n",
       "2              26.53  23.18  199074.98            0.00            0.00   \n",
       "3              25.58  24.83  197143.23            0.00            0.00   \n",
       "4              22.63  25.47  199531.00            0.00            0.00   \n",
       "\n",
       "   Debt to Equity  Book Value Per Share  Profit Margin  \\\n",
       "0          149.50                 24.72          13.82   \n",
       "1          144.31                 25.85          14.77   \n",
       "2          145.20                 27.02          14.17   \n",
       "3          136.27                 27.46          14.65   \n",
       "4          143.35                 27.25          12.98   \n",
       "\n",
       "   Total Debt to Total Asset  \n",
       "0                      54.61  \n",
       "1                      54.70  \n",
       "2                      54.94  \n",
       "3                      53.26  \n",
       "4                      53.65  "
      ]
     },
     "execution_count": 5,
     "metadata": {},
     "output_type": "execute_result"
    }
   ],
   "source": [
    "# preview the dataset\n",
    "\n",
    "X_training.head()"
   ]
  },
  {
   "cell_type": "markdown",
   "metadata": {},
   "source": [
    "### Check column names"
   ]
  },
  {
   "cell_type": "code",
   "execution_count": 6,
   "metadata": {},
   "outputs": [
    {
     "data": {
      "text/plain": [
       "Index(['Operating Margins', 'ROE', 'ROA', 'Dividend Yield', 'Earnings Yield',\n",
       "       'Debt to Equity', 'Book Value Per Share', 'Profit Margin',\n",
       "       'Total Debt to Total Asset'],\n",
       "      dtype='object')"
      ]
     },
     "execution_count": 6,
     "metadata": {},
     "output_type": "execute_result"
    }
   ],
   "source": [
    "X_training.columns "
   ]
  },
  {
   "cell_type": "markdown",
   "metadata": {},
   "source": [
    "We can see that the column names are renamed. Now, the columns have meaningful names."
   ]
  },
  {
   "cell_type": "markdown",
   "metadata": {},
   "source": [
    "### View summary of dataset"
   ]
  },
  {
   "cell_type": "code",
   "execution_count": 7,
   "metadata": {},
   "outputs": [
    {
     "name": "stdout",
     "output_type": "stream",
     "text": [
      "<class 'pandas.core.frame.DataFrame'>\n",
      "RangeIndex: 713 entries, 0 to 712\n",
      "Data columns (total 9 columns):\n",
      " #   Column                     Non-Null Count  Dtype  \n",
      "---  ------                     --------------  -----  \n",
      " 0   Operating Margins          713 non-null    float64\n",
      " 1   ROE                        713 non-null    float64\n",
      " 2   ROA                        713 non-null    float64\n",
      " 3   Dividend Yield             713 non-null    float64\n",
      " 4   Earnings Yield             713 non-null    float64\n",
      " 5   Debt to Equity             713 non-null    float64\n",
      " 6   Book Value Per Share       713 non-null    float64\n",
      " 7   Profit Margin              713 non-null    float64\n",
      " 8   Total Debt to Total Asset  713 non-null    float64\n",
      "dtypes: float64(9)\n",
      "memory usage: 50.3 KB\n"
     ]
    }
   ],
   "source": [
    "X_training.info()"
   ]
  },
  {
   "cell_type": "markdown",
   "metadata": {},
   "source": [
    "### Frequency distribution of values in variables\n",
    "\n",
    "Now, I will check the frequency counts of categorical variables."
   ]
  },
  {
   "cell_type": "code",
   "execution_count": 8,
   "metadata": {},
   "outputs": [
    {
     "name": "stdout",
     "output_type": "stream",
     "text": [
      "9.97     4\n",
      "16.92    3\n",
      "29.89    3\n",
      "18.82    3\n",
      "14.40    3\n",
      "        ..\n",
      "8.92     1\n",
      "36.37    1\n",
      "32.08    1\n",
      "31.52    1\n",
      "9.24     1\n",
      "Name: Operating Margins, Length: 650, dtype: int64\n",
      "17.60    4\n",
      "6.21     3\n",
      "12.63    3\n",
      "19.17    3\n",
      "13.61    3\n",
      "        ..\n",
      "9.02     1\n",
      "9.27     1\n",
      "9.14     1\n",
      "7.87     1\n",
      "12.12    1\n",
      "Name: ROE, Length: 621, dtype: int64\n",
      "311200.19    2\n",
      "240675.17    2\n",
      "388183.27    2\n",
      "378684.37    2\n",
      "376395.61    2\n",
      "            ..\n",
      "109364.00    1\n",
      "110845.00    1\n",
      "115635.00    1\n",
      "115266.00    1\n",
      "8228.51      1\n",
      "Name: ROA, Length: 690, dtype: int64\n",
      " 0.00     325\n",
      "-0.72       2\n",
      "-22.74      2\n",
      " 3.92       2\n",
      "-1.49       2\n",
      "         ... \n",
      " 2.51       1\n",
      "-5.53       1\n",
      "-11.01      1\n",
      "-20.68      1\n",
      " 3.14       1\n",
      "Name: Dividend Yield, Length: 366, dtype: int64\n",
      "0.00     310\n",
      "10.78      3\n",
      "10.09      3\n",
      "6.03       3\n",
      "11.36      3\n",
      "        ... \n",
      "12.69      1\n",
      "10.16      1\n",
      "8.73       1\n",
      "7.95       1\n",
      "5.29       1\n",
      "Name: Earnings Yield, Length: 365, dtype: int64\n",
      "90.00    3\n",
      "87.88    2\n",
      "85.28    2\n",
      "92.47    2\n",
      "88.39    2\n",
      "        ..\n",
      "68.94    1\n",
      "67.29    1\n",
      "66.94    1\n",
      "65.24    1\n",
      "20.73    1\n",
      "Name: Debt to Equity, Length: 673, dtype: int64\n",
      "0.65      5\n",
      "0.49      3\n",
      "4.15      3\n",
      "0.64      3\n",
      "577.45    2\n",
      "         ..\n",
      "0.83      1\n",
      "0.80      1\n",
      "1.05      1\n",
      "1.00      1\n",
      "50.56     1\n",
      "Name: Book Value Per Share, Length: 640, dtype: int64\n",
      "4.37     4\n",
      "10.76    4\n",
      "7.06     3\n",
      "13.67    3\n",
      "12.81    3\n",
      "        ..\n",
      "1.71     1\n",
      "7.10     1\n",
      "9.35     1\n",
      "14.50    1\n",
      "8.56     1\n",
      "Name: Profit Margin, Length: 625, dtype: int64\n",
      "33.29    5\n",
      "34.19    5\n",
      "37.19    4\n",
      "36.83    3\n",
      "34.33    3\n",
      "        ..\n",
      "35.23    1\n",
      "34.92    1\n",
      "35.59    1\n",
      "35.54    1\n",
      "14.07    1\n",
      "Name: Total Debt to Total Asset, Length: 646, dtype: int64\n"
     ]
    }
   ],
   "source": [
    "for col in X_training.columns:\n",
    "    print(X_training[col].value_counts())   "
   ]
  },
  {
   "cell_type": "markdown",
   "metadata": {},
   "source": [
    "### Explore `class` variable"
   ]
  },
  {
   "cell_type": "markdown",
   "metadata": {},
   "source": [
    "### Missing values in variables"
   ]
  },
  {
   "cell_type": "code",
   "execution_count": 9,
   "metadata": {},
   "outputs": [
    {
     "data": {
      "text/plain": [
       "Operating Margins            0\n",
       "ROE                          0\n",
       "ROA                          0\n",
       "Dividend Yield               0\n",
       "Earnings Yield               0\n",
       "Debt to Equity               0\n",
       "Book Value Per Share         0\n",
       "Profit Margin                0\n",
       "Total Debt to Total Asset    0\n",
       "dtype: int64"
      ]
     },
     "execution_count": 9,
     "metadata": {},
     "output_type": "execute_result"
    }
   ],
   "source": [
    "# check missing values in variables\n",
    "\n",
    "X_training.isnull().sum()"
   ]
  },
  {
   "cell_type": "markdown",
   "metadata": {},
   "source": [
    "We can see that there are no missing values in the dataset. I have checked the frequency distribution of values previously. It also confirms that there are no missing values in the dataset."
   ]
  },
  {
   "cell_type": "markdown",
   "metadata": {},
   "source": [
    "## Random Forest Classifier model with default parameters"
   ]
  },
  {
   "cell_type": "code",
   "execution_count": 14,
   "metadata": {},
   "outputs": [
    {
     "name": "stdout",
     "output_type": "stream",
     "text": [
      "Model accuracy score with 10 decision-trees : 0.4919\n"
     ]
    }
   ],
   "source": [
    "# import Random Forest classifier\n",
    "\n",
    "from sklearn.ensemble import RandomForestClassifier\n",
    "\n",
    "# instantiate the classifier \n",
    "\n",
    "rfc = RandomForestClassifier(random_state=0)\n",
    "\n",
    "# fit the model\n",
    "\n",
    "rfc.fit(X_training, y_training)\n",
    "\n",
    "# Predict the Test set results\n",
    "\n",
    "y_pred = rfc.predict(X_test)\n",
    "\n",
    "# Check accuracy score \n",
    "\n",
    "from sklearn.metrics import accuracy_score\n",
    "\n",
    "print('Model accuracy score with 10 decision-trees : {0:0.4f}'. format(accuracy_score(y_test, y_pred)))"
   ]
  },
  {
   "cell_type": "markdown",
   "metadata": {},
   "source": [
    "Here, **y_test** are the true class labels and **y_pred** are the predicted class labels in the test-set."
   ]
  },
  {
   "cell_type": "markdown",
   "metadata": {},
   "source": [
    "Here, I have build the Random Forest Classifier model with default parameter of `n_estimators = 10`. So, I have used 10 decision-trees to build the model. Now, I will increase the number of decision-trees and see its effect on accuracy."
   ]
  },
  {
   "cell_type": "markdown",
   "metadata": {},
   "source": [
    "## 13. Random Forest Classifier model with parameter n_estimators=1000."
   ]
  },
  {
   "cell_type": "code",
   "execution_count": 16,
   "metadata": {},
   "outputs": [
    {
     "name": "stdout",
     "output_type": "stream",
     "text": [
      "Model accuracy score with 1000 decision-trees : 0.4919\n"
     ]
    }
   ],
   "source": [
    "# instantiate the classifier with n_estimators = 100\n",
    "\n",
    "rfc_100 = RandomForestClassifier(n_estimators=100, random_state=0)\n",
    "\n",
    "# fit the model to the training set\n",
    "\n",
    "rfc_100.fit(X_training, y_training)\n",
    "\n",
    "# Predict on the test set results\n",
    "\n",
    "y_pred_100 = rfc_100.predict(X_test)\n",
    "\n",
    "# Check accuracy score \n",
    "\n",
    "print('Model accuracy score with 1000 decision-trees : {0:0.4f}'. format(accuracy_score(y_test, y_pred_100)))"
   ]
  },
  {
   "cell_type": "markdown",
   "metadata": {},
   "source": [
    "The model accuracy score with 10 decision-trees is 0.4390 but the same with 1000 decision-trees is 0.4878. So, as expected accuracy decreases with number of decision-trees in the model."
   ]
  },
  {
   "cell_type": "markdown",
   "metadata": {},
   "source": [
    "## 14. Find important features with Random Forest model\n",
    "\n",
    "\n",
    "Until now, I have used all the features given in the model. Now, I will select only the important features, build the model using these features and see its effect on accuracy. \n",
    "\n",
    "\n",
    "First, I will create the Random Forest model as follows:-"
   ]
  },
  {
   "cell_type": "code",
   "execution_count": 18,
   "metadata": {},
   "outputs": [
    {
     "data": {
      "text/plain": [
       "RandomForestClassifier(random_state=0)"
      ]
     },
     "execution_count": 18,
     "metadata": {},
     "output_type": "execute_result"
    }
   ],
   "source": [
    "# create the classifier with n_estimators = 100\n",
    "\n",
    "clf = RandomForestClassifier(n_estimators=100, random_state=0)\n",
    "\n",
    "# fit the model to the training set\n",
    "\n",
    "clf.fit(X_training, y_training)"
   ]
  },
  {
   "cell_type": "markdown",
   "metadata": {},
   "source": [
    "Now, I will use the feature importance variable to see feature importance scores."
   ]
  },
  {
   "cell_type": "code",
   "execution_count": 19,
   "metadata": {
    "scrolled": true
   },
   "outputs": [
    {
     "data": {
      "text/plain": [
       "ROE                          0.130059\n",
       "Operating Margins            0.128719\n",
       "Profit Margin                0.126009\n",
       "Book Value Per Share         0.119174\n",
       "ROA                          0.119077\n",
       "Total Debt to Total Asset    0.110932\n",
       "Debt to Equity               0.110130\n",
       "Dividend Yield               0.082315\n",
       "Earnings Yield               0.073584\n",
       "dtype: float64"
      ]
     },
     "execution_count": 19,
     "metadata": {},
     "output_type": "execute_result"
    }
   ],
   "source": [
    "# view the feature scores\n",
    "\n",
    "feature_scores = pd.Series(clf.feature_importances_, index=X_training.columns).sort_values(ascending=False)\n",
    "\n",
    "feature_scores"
   ]
  },
  {
   "cell_type": "markdown",
   "metadata": {},
   "source": [
    "The higher the score, the more important the feature is."
   ]
  },
  {
   "cell_type": "markdown",
   "metadata": {},
   "source": [
    "## 15. Visualize the feature scores of the features\n",
    "\n",
    "\n",
    "Now, I will visualize the feature scores with matplotlib and seaborn."
   ]
  },
  {
   "cell_type": "code",
   "execution_count": 20,
   "metadata": {},
   "outputs": [
    {
     "data": {
      "image/png": "[encoded data removed]",
      "text/plain": [
       "<Figure size 432x288 with 1 Axes>"
      ]
     },
     "metadata": {
      "needs_background": "light"
     },
     "output_type": "display_data"
    }
   ],
   "source": [
    "# Creating a seaborn bar plot\n",
    "\n",
    "sns.barplot(x=feature_scores, y=feature_scores.index)\n",
    "\n",
    "# Add labels to the graph\n",
    "\n",
    "plt.xlabel('Feature Importance Score')\n",
    "\n",
    "plt.ylabel('Features')\n",
    "\n",
    "# Add title to the graph\n",
    "\n",
    "plt.title(\"Visualizing Important Features\")\n",
    "\n",
    "# Visualize the graph\n",
    "\n",
    "plt.show()"
   ]
  },
  {
   "cell_type": "markdown",
   "metadata": {},
   "source": [
    "## 17. Build the Random Forest model on selected features"
   ]
  },
  {
   "cell_type": "code",
   "execution_count": 21,
   "metadata": {},
   "outputs": [],
   "source": [
    "# declare feature vector and target variable\n",
    "\n",
    "X_training_new= X_training.drop(['Dividend Yield','Earnings Yield'],axis=1)\n",
    "\n",
    "X_test_new=X_test.drop(['Dividend Yield','Earnings Yield'],axis=1)"
   ]
  },
  {
   "cell_type": "markdown",
   "metadata": {},
   "source": [
    "Now, I will build the random forest model and check accuracy."
   ]
  },
  {
   "cell_type": "code",
   "execution_count": 22,
   "metadata": {},
   "outputs": [
    {
     "name": "stdout",
     "output_type": "stream",
     "text": [
      "Model accuracy score with some variables removed : 0.4274\n"
     ]
    }
   ],
   "source": [
    "# instantiate the classifier with n_estimators = 100\n",
    "\n",
    "clf = RandomForestClassifier(random_state=0)\n",
    "\n",
    "# fit the model to the training set\n",
    "\n",
    "clf.fit(X_training_new, y_training)\n",
    "\n",
    "# Predict on the test set results\n",
    "\n",
    "y_pred = clf.predict(X_test_new)\n",
    "\n",
    "# Check accuracy score \n",
    "\n",
    "print('Model accuracy score with some variables removed : {0:0.4f}'. format(accuracy_score(y_test, y_pred)))\n"
   ]
  },
  {
   "cell_type": "markdown",
   "metadata": {},
   "source": [
    "## 18. Confusion matrix\n",
    "\n",
    "\n",
    "A confusion matrix is a tool for summarizing the performance of a classification algorithm. A confusion matrix will give us a clear picture of classification model performance and the types of errors produced by the model. It gives us a summary of correct and incorrect predictions broken down by each category. The summary is represented in a tabular form.\n",
    "\n",
    "\n",
    "Four types of outcomes are possible while evaluating a classification model performance. These four outcomes are described below:-\n",
    "\n",
    "\n",
    "**True Positives (TP)** – True Positives occur when we predict an observation belongs to a certain class and the observation actually belongs to that class.\n",
    "\n",
    "\n",
    "**True Negatives (TN)** – True Negatives occur when we predict an observation does not belong to a certain class and the observation actually does not belong to that class.\n",
    "\n",
    "\n",
    "**False Positives (FP)** – False Positives occur when we predict an observation belongs to a    certain class but the observation actually does not belong to that class. This type of error is called **Type I error.**\n",
    "\n",
    "\n",
    "\n",
    "**False Negatives (FN)** – False Negatives occur when we predict an observation does not belong to a certain class but the observation actually belongs to that class. This is a very serious error and it is called **Type II error.**\n",
    "\n",
    "\n",
    "\n",
    "These four outcomes are summarized in a confusion matrix given below.\n"
   ]
  },
  {
   "cell_type": "code",
   "execution_count": 23,
   "metadata": {},
   "outputs": [
    {
     "name": "stdout",
     "output_type": "stream",
     "text": [
      "Confusion matrix\n",
      "\n",
      "\n"
     ]
    },
    {
     "data": {
      "text/html": [
       "<div>\n",
       "<style scoped>\n",
       "    .dataframe tbody tr th:only-of-type {\n",
       "        vertical-align: middle;\n",
       "    }\n",
       "\n",
       "    .dataframe tbody tr th {\n",
       "        vertical-align: top;\n",
       "    }\n",
       "\n",
       "    .dataframe thead th {\n",
       "        text-align: right;\n",
       "    }\n",
       "</style>\n",
       "<table border=\"1\" class=\"dataframe\">\n",
       "  <thead>\n",
       "    <tr style=\"text-align: right;\">\n",
       "      <th></th>\n",
       "      <th>0</th>\n",
       "      <th>1</th>\n",
       "    </tr>\n",
       "  </thead>\n",
       "  <tbody>\n",
       "    <tr>\n",
       "      <th>0</th>\n",
       "      <td>28</td>\n",
       "      <td>35</td>\n",
       "    </tr>\n",
       "    <tr>\n",
       "      <th>1</th>\n",
       "      <td>36</td>\n",
       "      <td>25</td>\n",
       "    </tr>\n",
       "  </tbody>\n",
       "</table>\n",
       "</div>"
      ],
      "text/plain": [
       "    0   1\n",
       "0  28  35\n",
       "1  36  25"
      ]
     },
     "execution_count": 23,
     "metadata": {},
     "output_type": "execute_result"
    }
   ],
   "source": [
    "# Print the Confusion Matrix and slice it into four pieces\n",
    "\n",
    "from sklearn.metrics import confusion_matrix\n",
    "\n",
    "cm = confusion_matrix(y_test, y_pred)\n",
    "\n",
    "print('Confusion matrix\\n\\n')\n",
    "\n",
    "pd.DataFrame(cm)"
   ]
  },
  {
   "cell_type": "markdown",
   "metadata": {},
   "source": [
    "## 19. Classification Report\n",
    "\n",
    "\n",
    "**Classification report** is another way to evaluate the classification model performance. It displays the  **precision**, **recall**, **f1** and **support** scores for the model. I have described these terms in later.\n",
    "\n",
    "We can print a classification report as follows:-"
   ]
  },
  {
   "cell_type": "code",
   "execution_count": 24,
   "metadata": {},
   "outputs": [
    {
     "name": "stdout",
     "output_type": "stream",
     "text": [
      "              precision    recall  f1-score   support\n",
      "\n",
      "           0       0.44      0.44      0.44        63\n",
      "           1       0.42      0.41      0.41        61\n",
      "\n",
      "    accuracy                           0.43       124\n",
      "   macro avg       0.43      0.43      0.43       124\n",
      "weighted avg       0.43      0.43      0.43       124\n",
      "\n"
     ]
    }
   ],
   "source": [
    "from sklearn.metrics import classification_report\n",
    "\n",
    "print(classification_report(y_test, y_pred))"
   ]
  },
  {
   "cell_type": "code",
   "execution_count": 25,
   "metadata": {},
   "outputs": [
    {
     "name": "stdout",
     "output_type": "stream",
     "text": [
      "              precision    recall  f1-score   support\n",
      "\n",
      "           0       0.98      0.99      0.99       380\n",
      "           1       0.99      0.98      0.98       333\n",
      "\n",
      "    accuracy                           0.98       713\n",
      "   macro avg       0.98      0.98      0.98       713\n",
      "weighted avg       0.98      0.98      0.98       713\n",
      "\n"
     ]
    }
   ],
   "source": [
    "y_pred2 = clf.predict(X_training_new)\n",
    "\n",
    "print(classification_report(y_training, y_pred2))"
   ]
  },
  {
   "cell_type": "code",
   "execution_count": 26,
   "metadata": {},
   "outputs": [
    {
     "data": {
      "text/html": [
       "<div>\n",
       "<style scoped>\n",
       "    .dataframe tbody tr th:only-of-type {\n",
       "        vertical-align: middle;\n",
       "    }\n",
       "\n",
       "    .dataframe tbody tr th {\n",
       "        vertical-align: top;\n",
       "    }\n",
       "\n",
       "    .dataframe thead th {\n",
       "        text-align: right;\n",
       "    }\n",
       "</style>\n",
       "<table border=\"1\" class=\"dataframe\">\n",
       "  <thead>\n",
       "    <tr style=\"text-align: right;\">\n",
       "      <th></th>\n",
       "      <th>0</th>\n",
       "      <th>1</th>\n",
       "    </tr>\n",
       "  </thead>\n",
       "  <tbody>\n",
       "    <tr>\n",
       "      <th>0</th>\n",
       "      <td>376</td>\n",
       "      <td>4</td>\n",
       "    </tr>\n",
       "    <tr>\n",
       "      <th>1</th>\n",
       "      <td>7</td>\n",
       "      <td>326</td>\n",
       "    </tr>\n",
       "  </tbody>\n",
       "</table>\n",
       "</div>"
      ],
      "text/plain": [
       "     0    1\n",
       "0  376    4\n",
       "1    7  326"
      ]
     },
     "execution_count": 26,
     "metadata": {},
     "output_type": "execute_result"
    }
   ],
   "source": [
    "pd.DataFrame(confusion_matrix(y_training, y_pred2))"
   ]
  },
  {
   "cell_type": "code",
   "execution_count": null,
   "metadata": {},
   "outputs": [],
   "source": []
  }
 ],
 "metadata": {
  "kernelspec": {
   "display_name": "Python 3 (ipykernel)",
   "language": "python",
   "name": "python3"
  },
  "language_info": {
   "codemirror_mode": {
    "name": "ipython",
    "version": 3
   },
   "file_extension": ".py",
   "mimetype": "text/x-python",
   "name": "python",
   "nbconvert_exporter": "python",
   "pygments_lexer": "ipython3",
   "version": "3.9.12"
  }
 },
 "nbformat": 4,
 "nbformat_minor": 4
}
